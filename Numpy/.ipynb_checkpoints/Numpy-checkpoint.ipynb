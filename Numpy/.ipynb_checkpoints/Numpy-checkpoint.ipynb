{
 "cells": [
  {
   "cell_type": "markdown",
   "id": "7a4a5eae-5a1c-49b3-b224-babd34fd5218",
   "metadata": {},
   "source": [
    "# NumPy Full Course – Step by Step with Explanation & Example"
   ]
  },
  {
   "cell_type": "markdown",
   "id": "1dc2344e-bc43-4ef8-aa31-8b2a1a982659",
   "metadata": {},
   "source": [
    "* I’ll break it into chapters, each with:\n",
    "\n",
    "* Concept explanation – what it is, why it exists, when to use it\n",
    "\n",
    "* Code example – working Python/NumPy code\n",
    "\n",
    "* Output & explanation – what the result is and why\n",
    "\n",
    "* Tips / Real-world use cases"
   ]
  },
  {
   "cell_type": "markdown",
   "id": "75a7dde7-d724-42c8-a4f9-4eb167fb6bdf",
   "metadata": {},
   "source": [
    "### Chapter 1: NumPy Arrays (ndarray)\n",
    "\n",
    "Concept:\n",
    "\n",
    "NumPy arrays are homogeneous, multi-dimensional containers for numbers.\n",
    "\n",
    "Faster and memory-efficient than Python lists."
   ]
  },
  {
   "cell_type": "markdown",
   "id": "58484dcb-73a9-42e6-8e9d-d63cbac2c8e2",
   "metadata": {},
   "source": [
    "I’ll test:\n",
    "Memory usage and\n",
    "Computation speed (summing elements)"
   ]
  },
  {
   "cell_type": "code",
   "execution_count": 6,
   "id": "21611f08-3264-455c-842a-f68254b8192a",
   "metadata": {},
   "outputs": [
    {
     "name": "stdout",
     "output_type": "stream",
     "text": [
      "Python list size: 80000056\n",
      "NumPy array size: 80000000\n",
      "Python list sum time: 0.13289523124694824\n",
      "NumPy array sum time: 0.009526968002319336\n"
     ]
    }
   ],
   "source": [
    "import numpy as np\n",
    "import sys\n",
    "import time\n",
    "\n",
    "# Create a large dataset\n",
    "size = 10000000\n",
    "\n",
    "# Python list\n",
    "py_list = list(range(size))\n",
    "# NumPy array\n",
    "np_array = np.arange(size)\n",
    "\n",
    "# 1.memory usage\n",
    "print(\"Python list size:\", sys.getsizeof(py_list))        # ~80 MB + overhead\n",
    "print(\"NumPy array size:\", np_array.nbytes)              # ~40 MB\n",
    "\n",
    "# 2.Computation speed: summing all elements\n",
    "# Python list sum\n",
    "start = time.time()\n",
    "sum(py_list)\n",
    "end = time.time()\n",
    "print(\"Python list sum time:\", end - start)\n",
    "\n",
    "# NumPy array sum\n",
    "start = time.time()\n",
    "np_array.sum()\n",
    "end = time.time()\n",
    "print(\"NumPy array sum time:\", end - start)\n"
   ]
  },
  {
   "cell_type": "markdown",
   "id": "eec6e669-af51-47eb-8e8b-55548ece1c3b",
   "metadata": {},
   "source": [
    "✅ What happens\n",
    "\n",
    "Memory:\n",
    "\n",
    "Python list stores pointers to objects → more memory.\n",
    "\n",
    "NumPy stores raw numbers in contiguous memory → less memory.\n",
    "\n",
    "Speed:\n",
    "\n",
    "Python list iterates in Python → slower.\n",
    "\n",
    "NumPy operations are vectorized C code → much faster."
   ]
  },
  {
   "cell_type": "markdown",
   "id": "f93aed52-4560-46eb-9986-eb6fa950ac9e",
   "metadata": {},
   "source": [
    "## 1️⃣ Introduction to NumPy\n",
    "#### Concepts\n",
    "\n",
    "NumPy = Numerical Python\n",
    "\n",
    "* Provides:\n",
    "\n",
    "ndarray: N-dimensional array\n",
    "\n",
    "Vectorized operations (faster than Python loops)\n",
    "\n",
    "Linear algebra, statistics, random numbers\n",
    "\n",
    "Foundation for pandas, scikit-learn, TensorFlow, PyTorch\n",
    "\n",
    "* Why use NumPy\n",
    "\n",
    "Memory-efficient (homogeneous, contiguous memory)\n",
    "\n",
    "Fast (C-based backend)\n",
    "\n",
    "Supports broadcasting, advanced indexing, and linear algebra"
   ]
  },
  {
   "cell_type": "markdown",
   "id": "6056db3a-d3e4-4a3d-a4a1-c86d62c6c64b",
   "metadata": {},
   "source": [
    "# Application:\n",
    "Foundation for ML pipelines, data preprocessing, image processing, scientific computing."
   ]
  },
  {
   "cell_type": "markdown",
   "id": "d7afbec6-739f-4d15-8950-6a111127573b",
   "metadata": {},
   "source": [
    "## Installation\n",
    "\n",
    "pip install numpy"
   ]
  },
  {
   "cell_type": "code",
   "execution_count": 7,
   "id": "59dc989a-51f8-4d70-a084-38c6b9cbe564",
   "metadata": {},
   "outputs": [
    {
     "name": "stdout",
     "output_type": "stream",
     "text": [
      "Requirement already satisfied: numpy in c:\\users\\vineeth reddy\\appdata\\local\\programs\\python\\python314\\lib\\site-packages (2.3.3)\n"
     ]
    }
   ],
   "source": [
    "!pip install numpy"
   ]
  },
  {
   "cell_type": "code",
   "execution_count": 8,
   "id": "57012c36-ab17-4bc3-b16a-826be69fb4c8",
   "metadata": {},
   "outputs": [
    {
     "data": {
      "text/plain": [
       "'2.3.3'"
      ]
     },
     "execution_count": 8,
     "metadata": {},
     "output_type": "execute_result"
    }
   ],
   "source": [
    "# Tip: Check version for reproducibility:\n",
    "import numpy as np\n",
    "np.__version__\n"
   ]
  },
  {
   "cell_type": "markdown",
   "id": "1dd36ba9-0355-487d-a581-7ef8b99ec7a6",
   "metadata": {},
   "source": [
    "# 2️⃣ NumPy Arrays (ndarray)\n",
    "\n",
    "Concept: Homogeneous, multi-dimensional arrays (1D, 2D, 3D, …).\n",
    "\n",
    "1D array: single row or column of data\n",
    "\n",
    "2D array: matrix, rows × columns\n",
    "\n",
    "3D array: stack of matrices, useful for images, tensors"
   ]
  },
  {
   "cell_type": "code",
   "execution_count": 9,
   "id": "382eafbf-425d-45d5-a1c3-16c635f85813",
   "metadata": {},
   "outputs": [
    {
     "name": "stdout",
     "output_type": "stream",
     "text": [
      "shape of the array : (2, 3)\n",
      "dimensions of array :  2\n",
      "array size : 6\n",
      "data type :  int64\n",
      "bytes per element :  8\n",
      "total bytes :  48\n"
     ]
    }
   ],
   "source": [
    "import numpy as np\n",
    "\n",
    "# 1D array\n",
    "arr1 = np.array([1, 2, 3])\n",
    "# 2D array\n",
    "arr2 = np.array([[1,2,3],[4,5,6]])\n",
    "# 3D array\n",
    "arr3 = np.array([[[1,2],[3,4]],[[5,6],[7,8]]])\n",
    "\n",
    "# Attributes\n",
    "print(\"shape of the array :\",arr2.shape)   # (2,3) → rows × columns\n",
    "print(\"dimensions of array : \",arr2.ndim)    # 2 → dimensions\n",
    "print(\"array size :\",arr2.size)    # 6 → total elements\n",
    "print(\"data type : \",arr2.dtype)   # data type\n",
    "print(\"bytes per element : \",arr2.itemsize) # bytes per element\n",
    "print(\"total bytes : \",arr2.nbytes)   # total bytes\n",
    "\n",
    "# Tip: Always check .shape and .dtype before computations.\n",
    "\n",
    "# Application: Replace Python lists for numeric datasets, images, ML features."
   ]
  },
  {
   "cell_type": "markdown",
   "id": "9d956f80-76c4-49d1-84b0-e2ee3c83c868",
   "metadata": {},
   "source": [
    "# 3️⃣ Array Creation Techniques"
   ]
  },
  {
   "cell_type": "code",
   "execution_count": 10,
   "id": "1d283853-3c8f-4bdd-bd0f-607f6e3c9738",
   "metadata": {},
   "outputs": [
    {
     "data": {
      "text/plain": [
       "array([[0., 0., 0.],\n",
       "       [0., 0., 0.]])"
      ]
     },
     "execution_count": 10,
     "metadata": {},
     "output_type": "execute_result"
    }
   ],
   "source": [
    "# Array of zeros\n",
    "zeros = np.zeros((2,3)) #np.zeros(shape) method\n",
    "zeros"
   ]
  },
  {
   "cell_type": "code",
   "execution_count": 11,
   "id": "45021048-a1e6-4b23-9d7d-0a3afcb759b9",
   "metadata": {},
   "outputs": [
    {
     "data": {
      "text/plain": [
       "array([[1., 1., 1.],\n",
       "       [1., 1., 1.]])"
      ]
     },
     "execution_count": 11,
     "metadata": {},
     "output_type": "execute_result"
    }
   ],
   "source": [
    "# Array of ones\n",
    "ones = np.ones((2,3))   # np.ones(shape) method\n",
    "ones"
   ]
  },
  {
   "cell_type": "code",
   "execution_count": 12,
   "id": "710ae737-db1a-4cfc-b23f-c1e320d8de89",
   "metadata": {},
   "outputs": [
    {
     "data": {
      "text/plain": [
       "array([[7, 7],\n",
       "       [7, 7]])"
      ]
     },
     "execution_count": 12,
     "metadata": {},
     "output_type": "execute_result"
    }
   ],
   "source": [
    "# Array with constant elements\n",
    "const = np.full((2,2),7)  # np.full(shape,value) method\n",
    "const"
   ]
  },
  {
   "cell_type": "code",
   "execution_count": 13,
   "id": "124b14db-0623-4e34-992b-c09b7c011cdf",
   "metadata": {},
   "outputs": [
    {
     "name": "stdout",
     "output_type": "stream",
     "text": [
      "arnage by default [2 3 4 5 6 7 8 9]\n",
      "arnage data with step size [2 4 6 8]\n"
     ]
    }
   ],
   "source": [
    "# arrange in numpy arrays  Like Python range\n",
    "arange = np.arange(2,10)\n",
    "print(f'arnage by default',arange)\n",
    "arange1 = np.arange(2,10,2)\n",
    "print(f'arnage data with step size',arange1)\n"
   ]
  },
  {
   "cell_type": "code",
   "execution_count": 14,
   "id": "c65936df-c3ab-48ea-9cd8-097af1b9823c",
   "metadata": {},
   "outputs": [
    {
     "data": {
      "text/plain": [
       "array([0. , 0.5, 1. , 1.5, 2. ])"
      ]
     },
     "execution_count": 14,
     "metadata": {},
     "output_type": "execute_result"
    }
   ],
   "source": [
    "# Linear space -> Evenly spaced numbers\n",
    "\n",
    "linspace = np.linspace(0,2,5) # np.linspace(start,stop,num)\n",
    "linspace"
   ]
  },
  {
   "cell_type": "code",
   "execution_count": 15,
   "id": "aed47934-0445-47fb-96b0-075347da2441",
   "metadata": {},
   "outputs": [
    {
     "data": {
      "text/plain": [
       "array([[0.10968862, 0.09804119, 0.45782647],\n",
       "       [0.90315533, 0.27271277, 0.57604163],\n",
       "       [0.93423669, 0.84416676, 0.51722186]])"
      ]
     },
     "execution_count": 15,
     "metadata": {},
     "output_type": "execute_result"
    }
   ],
   "source": [
    "# Uniform random 0 to 1 between\n",
    "unfrand = np.random.rand(3,3)  # np.random.rand()\n",
    "unfrand"
   ]
  },
  {
   "cell_type": "code",
   "execution_count": 16,
   "id": "dc3adb80-3811-4cfd-9ef9-9f5cc20c697c",
   "metadata": {},
   "outputs": [
    {
     "data": {
      "text/plain": [
       "array([[ 0.16893229, -1.18238991, -0.81695272],\n",
       "       [-1.27879771,  0.205771  , -1.74376542],\n",
       "       [-1.06179334,  1.14570392, -0.81246808]])"
      ]
     },
     "execution_count": 16,
     "metadata": {},
     "output_type": "execute_result"
    }
   ],
   "source": [
    "# Normal distribution \n",
    "nrand = np.random.randn(3,3)  #np.random.randn()\n",
    "nrand"
   ]
  },
  {
   "cell_type": "code",
   "execution_count": 17,
   "id": "4baaa0d2-57e7-412d-9866-cc2eeba470f6",
   "metadata": {},
   "outputs": [
    {
     "data": {
      "text/plain": [
       "array([1, 6, 2, 8, 2], dtype=int32)"
      ]
     },
     "execution_count": 17,
     "metadata": {},
     "output_type": "execute_result"
    }
   ],
   "source": [
    "# Random integers\n",
    "# np.random.randint(low,high,size)\n",
    "randint = np.random.randint(1,10,5)\n",
    "randint\n"
   ]
  },
  {
   "cell_type": "markdown",
   "id": "90c59f22-9a9c-4f6c-b5d2-476e8bb277af",
   "metadata": {},
   "source": [
    "Tip: Use np.random.seed(42) to reproduce same random numbers.\n",
    "\n",
    "Application: Initialize weights for ML, simulate datasets, generate random numbers.\n",
    "\n",
    "Why Use Seed?\n",
    "Without seed → every execution different results\n",
    "\n",
    "With seed → results reproducible, same random numbers appear every time"
   ]
  },
  {
   "cell_type": "code",
   "execution_count": 18,
   "id": "bae6a186-0616-4cb5-8ec0-c193775b2c58",
   "metadata": {},
   "outputs": [
    {
     "name": "stdout",
     "output_type": "stream",
     "text": [
      "[7 4 8 5 7]\n",
      "[0.44583275 0.09997492 0.45924889]\n"
     ]
    }
   ],
   "source": [
    "## example \n",
    "np.random.seed(42)  # fix the seed means fixes the randomness\n",
    "\n",
    "# Random integers\n",
    "rand_int = np.random.randint(1, 10, size=5)\n",
    "print(rand_int)\n",
    "\n",
    "# Random float numbers\n",
    "rand_float = np.random.rand(3)\n",
    "print(rand_float)\n"
   ]
  },
  {
   "cell_type": "markdown",
   "id": "e50a07a8-5dff-4f56-ad1f-295e4b511b5d",
   "metadata": {},
   "source": [
    "# 4️⃣ Indexing and Slicing\n",
    "### Concept: Access elements, filter data."
   ]
  },
  {
   "cell_type": "code",
   "execution_count": 19,
   "id": "8f19eeeb-21ec-4144-b503-4ca7045c96b0",
   "metadata": {},
   "outputs": [
    {
     "name": "stdout",
     "output_type": "stream",
     "text": [
      "[0 1 2 3 4 5 6 7 8 9]\n",
      "0\n",
      "[1 2 3 4]\n",
      "[0 2 4 6 8]\n"
     ]
    }
   ],
   "source": [
    "# 1D Array\n",
    "arr = np.arange(10)\n",
    "print(arr)\n",
    "print(arr[0])      # 0 → first element\n",
    "print(arr[1:5])    # 1 2 3 4 → slice\n",
    "print(arr[::2])    # 0 2 4 6 8 → every 2nd element"
   ]
  },
  {
   "cell_type": "code",
   "execution_count": 20,
   "id": "e9dc89f8-9617-46a3-8cee-2c6655815bfe",
   "metadata": {},
   "outputs": [
    {
     "name": "stdout",
     "output_type": "stream",
     "text": [
      "2\n",
      "[2 5]\n",
      "[4 5 6]\n"
     ]
    }
   ],
   "source": [
    "# 2D Array\n",
    "arr2 = np.array([[1,2,3],[4,5,6]])\n",
    "print(arr2[0,1])   # 2 → row 0, col 1\n",
    "print(arr2[:,1])   # [2,5] → column\n",
    "print(arr2[1,:])   # [4,5,6] → row"
   ]
  },
  {
   "cell_type": "code",
   "execution_count": 21,
   "id": "72b39d37-f089-4fcf-8524-0a5d33731323",
   "metadata": {},
   "outputs": [
    {
     "name": "stdout",
     "output_type": "stream",
     "text": [
      "[3 4 5]\n"
     ]
    }
   ],
   "source": [
    "# Boolean Indexing\n",
    "arr = np.array([1,2,3,4,5])\n",
    "print(arr[arr>2])   # [3 4 5]"
   ]
  },
  {
   "cell_type": "code",
   "execution_count": 22,
   "id": "f34da72a-a139-4c10-9131-943def3ba974",
   "metadata": {},
   "outputs": [
    {
     "name": "stdout",
     "output_type": "stream",
     "text": [
      "[20 40 50]\n"
     ]
    }
   ],
   "source": [
    "# Fancy Indexing\n",
    "arr = np.array([10,20,30,40,50])\n",
    "print(arr[[1,3,4]])  # [20 40 50]\n"
   ]
  },
  {
   "cell_type": "markdown",
   "id": "964652ed-4919-4128-85f5-abe801e3c45f",
   "metadata": {},
   "source": [
    "Tip: Boolean masks + fancy indexing = extremely powerful for filtering.\n",
    "\n",
    "Application: Filter rows in ML datasets efficiently."
   ]
  },
  {
   "cell_type": "code",
   "execution_count": 23,
   "id": "665c5ffa-4c17-4a4b-90c7-d6c5d7e3499a",
   "metadata": {},
   "outputs": [
    {
     "data": {
      "text/plain": [
       "array([10, 20, 30, 40, 50])"
      ]
     },
     "execution_count": 23,
     "metadata": {},
     "output_type": "execute_result"
    }
   ],
   "source": [
    "arr"
   ]
  },
  {
   "cell_type": "code",
   "execution_count": 24,
   "id": "1382b1ee-cfa2-46e7-b7b1-545982b2648a",
   "metadata": {},
   "outputs": [
    {
     "name": "stdout",
     "output_type": "stream",
     "text": [
      "[10 50]\n"
     ]
    }
   ],
   "source": [
    "print(arr[[0,4]])"
   ]
  },
  {
   "cell_type": "code",
   "execution_count": 25,
   "id": "cd6d4f7c-560d-4344-b124-7eaf5ea8c842",
   "metadata": {},
   "outputs": [
    {
     "name": "stdout",
     "output_type": "stream",
     "text": [
      "Mask: [ True False  True  True  True]\n",
      "Top Students: ['Vineeth' 'Gangula' 'Dhoni' 'Virat']\n",
      "Top Scores: [82 90 93 88]\n"
     ]
    }
   ],
   "source": [
    "# Let’s make a small real-world example using Indexing and Slicing\n",
    "# Student names and scores\n",
    "names = np.array([\"Vineeth\", \"Reddy\", \"Gangula\", \"Dhoni\", \"Virat\"])\n",
    "scores = np.array([82, 67, 90, 93, 88])\n",
    "\n",
    "# Boolean mask → students who scored >75\n",
    "mask = scores > 75\n",
    "print(\"Mask:\", mask)\n",
    "\n",
    "# Apply mask to get names and scores\n",
    "top_students = names[mask]\n",
    "top_scores = scores[mask]\n",
    "\n",
    "print(\"Top Students:\", top_students)\n",
    "print(\"Top Scores:\", top_scores)\n"
   ]
  },
  {
   "cell_type": "code",
   "execution_count": 26,
   "id": "0acbc15b-93af-43ef-80d0-6e5cc5d93006",
   "metadata": {},
   "outputs": [
    {
     "name": "stdout",
     "output_type": "stream",
     "text": [
      "Selected Students: ['Vineeth' 'Gangula' 'Virat']\n",
      "Selected Scores: [82 90 88]\n"
     ]
    }
   ],
   "source": [
    "# Let’s do a Fancy Indexing example in a real-life scenario\n",
    "# Student names and scores\n",
    "names = np.array([\"Vineeth\", \"Reddy\", \"Gangula\", \"Dhoni\", \"Virat\"])\n",
    "scores = np.array([82, 67, 90, 93, 88])\n",
    "\n",
    "# Fancy indexing → select students at index 0, 2, 4\n",
    "selected_indices = [0, 2, 4]\n",
    "selected_names = names[selected_indices]\n",
    "selected_scores = scores[selected_indices]\n",
    "\n",
    "print(\"Selected Students:\", selected_names)\n",
    "print(\"Selected Scores:\", selected_scores)\n"
   ]
  },
  {
   "cell_type": "markdown",
   "id": "f28e6f61-ea3b-4ec4-9610-9e388ddc5c36",
   "metadata": {},
   "source": [
    "# 5️⃣ Array Operations\n",
    "### Arithmetic Operations"
   ]
  },
  {
   "cell_type": "code",
   "execution_count": 27,
   "id": "27731704-f387-46a1-98c6-ac46f802c8be",
   "metadata": {},
   "outputs": [
    {
     "name": "stdout",
     "output_type": "stream",
     "text": [
      "[ 2  4  6  8 10]\n",
      "[ 1  4  9 16 25]\n",
      "[0 0 0 0 0]\n",
      "[0 0 0 0 0]\n",
      "[1. 1. 1. 1. 1.]\n",
      "[1 1 1 1 1]\n",
      "[   1    4   27  256 3125]\n"
     ]
    }
   ],
   "source": [
    "a = np.array([1,2,3,4,5])\n",
    "b = np.array([1,2,3,4,5])\n",
    "print(a+b)\n",
    "print(a*b)\n",
    "print(a-b)\n",
    "print(a%b)\n",
    "print(a/b)\n",
    "print(a//b)\n",
    "print(a**b)"
   ]
  },
  {
   "cell_type": "markdown",
   "id": "24203fc9-403f-4637-826b-f68a2c45e4c0",
   "metadata": {},
   "source": [
    "### Universal Functions (ufunc)"
   ]
  },
  {
   "cell_type": "code",
   "execution_count": 28,
   "id": "61c3ab37-7057-4422-9ca4-8b55167e9309",
   "metadata": {},
   "outputs": [
    {
     "name": "stdout",
     "output_type": "stream",
     "text": [
      "[2.23606798]\n",
      "[148.4131591]\n",
      "[1.60943791]\n",
      "[-0.95892427]\n",
      "[0.28366219]\n"
     ]
    }
   ],
   "source": [
    "a = np.array([5])\n",
    "sqrt = np.sqrt(a)\n",
    "exp = np.exp(a)\n",
    "log = np.log(a)\n",
    "sin = np.sin(a)\n",
    "cos = np.cos(a)\n",
    "\n",
    "print(sqrt)\n",
    "print(exp)\n",
    "print(log)\n",
    "print(sin)\n",
    "print(cos)"
   ]
  },
  {
   "cell_type": "markdown",
   "id": "011de91c-de4b-4503-b7fd-c4c79985c25b",
   "metadata": {},
   "source": [
    "### Aggregation Functions"
   ]
  },
  {
   "cell_type": "code",
   "execution_count": 29,
   "id": "e6582e19-053c-46f3-9a0d-932ec0c19d60",
   "metadata": {},
   "outputs": [
    {
     "name": "stdout",
     "output_type": "stream",
     "text": [
      "15\n",
      "3.0\n",
      "3.0\n",
      "1.4142135623730951\n",
      "2.0\n",
      "1\n",
      "5\n",
      "[ 1  3  6 10 15]\n",
      "[  1   2   6  24 120]\n"
     ]
    }
   ],
   "source": [
    "\n",
    "arr = np.array([1,2,3,4,5])\n",
    "print(np.sum(arr))\n",
    "print(np.mean(arr))\n",
    "print(np.median(arr))\n",
    "print(np.std(arr))\n",
    "print(np.var(arr))\n",
    "print(np.min(arr))\n",
    "print(np.max(arr))\n",
    "print(np.cumsum(arr))\n",
    "print(np.cumprod(arr))"
   ]
  },
  {
   "cell_type": "markdown",
   "id": "5fa68c47-48a4-4171-b5fd-c63061f7de09",
   "metadata": {},
   "source": [
    "Tip: Always prefer vectorized operations over Python loops → faster and memory-efficient.\n",
    "\n",
    "Application: Statistical computations, feature scaling, ML preprocessing."
   ]
  },
  {
   "cell_type": "code",
   "execution_count": 30,
   "id": "e1341222-01d0-4803-b3ab-b02b6a0b541f",
   "metadata": {},
   "outputs": [
    {
     "name": "stdout",
     "output_type": "stream",
     "text": [
      "Temperatures in Fahrenheit: [71.6 77.  69.8 75.2 78.8 73.4 80.6]\n",
      "Deviation from Mean: [-2.  1. -3.  0.  2. -1.  3.]\n",
      "Absolute Deviation: [2. 1. 3. 0. 2. 1. 3.]\n",
      "Max Temp: 27\n",
      "Min Temp: 21\n",
      "Sum of Temps: 168\n",
      "Cumulative Temp: [ 22  47  68  92 118 141 168]\n",
      "Std Dev: 2.0\n"
     ]
    }
   ],
   "source": [
    "# Let’s create a real-time example using Array Operations, ufuncs, and Aggregations\n",
    "# Analyze daily temperatures\n",
    "import numpy as np\n",
    "\n",
    "# Daily temperatures in Celsius for a week\n",
    "temps = np.array([22, 25, 21, 24, 26, 23, 27])\n",
    "\n",
    "# Arithmetic Operations\n",
    "# Convert Celsius to Fahrenheit\n",
    "temps_F = temps * 9/5 + 32\n",
    "print(\"Temperatures in Fahrenheit:\", temps_F)\n",
    "\n",
    "# Universal Functions (ufunc)\n",
    "# Temperature deviation from average\n",
    "mean_temp = np.mean(temps)\n",
    "deviation = temps - mean_temp\n",
    "abs_dev = np.abs(deviation)\n",
    "print(\"Deviation from Mean:\", deviation)\n",
    "print(\"Absolute Deviation:\", abs_dev)\n",
    "\n",
    "# Aggregation Functions\n",
    "print(\"Max Temp:\", np.max(temps))\n",
    "print(\"Min Temp:\", np.min(temps))\n",
    "print(\"Sum of Temps:\", np.sum(temps))\n",
    "print(\"Cumulative Temp:\", np.cumsum(temps))\n",
    "print(\"Std Dev:\", np.std(temps))\n"
   ]
  },
  {
   "cell_type": "markdown",
   "id": "7ab4832f-55e9-4c01-b3fa-fb4f3ac9b2bc",
   "metadata": {},
   "source": [
    "# 6️⃣ Shape Manipulation in NumPy"
   ]
  },
  {
   "cell_type": "markdown",
   "id": "a5cd02cf-a381-4f39-88f4-e41b48576df5",
   "metadata": {},
   "source": [
    "Shape manipulation is critical when preparing data for ML, reshaping images, or combining datasets."
   ]
  },
  {
   "cell_type": "markdown",
   "id": "9028af45-b0b1-4080-a1da-2c805b44164e",
   "metadata": {},
   "source": [
    "### 1. Reshape\n",
    "Concept:\\\n",
    "Change the shape of an array without changing the data.\\\n",
    "Total number of elements must remain the same."
   ]
  },
  {
   "cell_type": "code",
   "execution_count": 31,
   "id": "b6cb93b1-f578-4672-b6d3-81c514ac9599",
   "metadata": {},
   "outputs": [
    {
     "name": "stdout",
     "output_type": "stream",
     "text": [
      "original array\n",
      " [0 1 2 3 4 5 6 7 8 9]\n",
      "reshaped array\n",
      " [[0 1 2 3 4]\n",
      " [5 6 7 8 9]]\n",
      "\n",
      "original array\n",
      " [0 1 2 3 4 5 6 7 8 9]\n",
      "reshaped array\n",
      " [[[ 0  1]\n",
      "  [ 2  3]\n",
      "  [ 4  5]]\n",
      "\n",
      " [[ 6  7]\n",
      "  [ 8  9]\n",
      "  [10 11]]]\n"
     ]
    }
   ],
   "source": [
    "# 1D to 2D-array\n",
    "import numpy as np\n",
    "arr= np.arange(10)\n",
    "print(f\"original array\\n\",arr)\n",
    "reshape = arr.reshape(2,5)\n",
    "print(f'reshaped array\\n',reshape)\n",
    "print()\n",
    "# 1D to 3D-array\n",
    "arr1= np.arange(12)\n",
    "print(f\"original array\\n\",arr)\n",
    "reshape = arr1.reshape(2,3,2)\n",
    "print(f'reshaped array\\n',reshape)\n"
   ]
  },
  {
   "cell_type": "markdown",
   "id": "4482531a-5b4a-442a-b661-bf2341435ccc",
   "metadata": {},
   "source": [
    "Use case:\\\n",
    "Reshape 1D feature vectors to 2D arrays for ML models.\\\n",
    "Reshape flattened images into 2D for visualization.\\\n",
    "Tip: Always check that the total elements match when reshaping."
   ]
  },
  {
   "cell_type": "markdown",
   "id": "27b0300b-d3d5-4d60-bddf-4a17dc918b35",
   "metadata": {},
   "source": [
    "### 2. Flatten / Ravel\n",
    "\n",
    "Concept:\n",
    "\n",
    "flatten() → returns a copy\n",
    "\n",
    "ravel() → returns a view (memory efficient)"
   ]
  },
  {
   "cell_type": "code",
   "execution_count": 32,
   "id": "7331b13f-010f-436c-8acf-9eaffc4b71fe",
   "metadata": {},
   "outputs": [
    {
     "name": "stdout",
     "output_type": "stream",
     "text": [
      "Flatten: [1 2 3 4 5 6]\n",
      "Ravel: [1 2 3 4 5 6]\n"
     ]
    }
   ],
   "source": [
    "arr2d = np.array([[1,2,3],[4,5,6]])\n",
    "print(\"Flatten:\", arr2d.flatten())\n",
    "print(\"Ravel:\", arr2d.ravel())\n"
   ]
  },
  {
   "cell_type": "markdown",
   "id": "34478cc2-a4e0-44e6-9f37-2267b60278dd",
   "metadata": {},
   "source": [
    "Use case:\n",
    "\n",
    "Flatten image arrays (H × W → 1D) for ML input.\n",
    "\n",
    "Use ravel() for large arrays to save memory.\n",
    "\n",
    "Tip: Use ravel() over flatten() for memory efficiency."
   ]
  },
  {
   "cell_type": "markdown",
   "id": "e6c4c339-bd1d-4b16-bd4a-1234d7d7c9db",
   "metadata": {},
   "source": [
    "### 3. Transpose\n",
    "\n",
    "Concept:\n",
    "\n",
    "Swap rows and columns (.T)"
   ]
  },
  {
   "cell_type": "code",
   "execution_count": 33,
   "id": "65ce80f0-e935-4908-938e-8dab3dca9952",
   "metadata": {},
   "outputs": [
    {
     "name": "stdout",
     "output_type": "stream",
     "text": [
      "[[1 4]\n",
      " [2 5]\n",
      " [3 6]]\n"
     ]
    }
   ],
   "source": [
    "arr2d = np.array([[1,2,3],[4,5,6]])\n",
    "print(arr2d.T)\n"
   ]
  },
  {
   "cell_type": "markdown",
   "id": "16bcc41b-4a34-4a7a-8638-219d34b72a42",
   "metadata": {},
   "source": [
    "Use case:\n",
    "\n",
    "Matrix multiplication\n",
    "\n",
    "Switching orientation of features or images"
   ]
  },
  {
   "cell_type": "markdown",
   "id": "fd36e45d-9d7b-458c-ac7e-55dcd902881c",
   "metadata": {},
   "source": [
    "### 4. Concatenate / Stack\n",
    "\n",
    "Concept:\n",
    "\n",
    "Combine multiple arrays along existing or new axes\n"
   ]
  },
  {
   "cell_type": "code",
   "execution_count": 34,
   "id": "f0ff376e-b23f-42fe-84c6-ef2c402c11fb",
   "metadata": {},
   "outputs": [
    {
     "name": "stdout",
     "output_type": "stream",
     "text": [
      "Concatenate:\n",
      " [1 2 3 4]\n",
      "VStack:\n",
      " [[1 2]\n",
      " [3 4]]\n",
      "HStack:\n",
      " [1 2 3 4]\n"
     ]
    }
   ],
   "source": [
    "a = np.array([1,2])\n",
    "b = np.array([3,4])\n",
    "\n",
    "print(\"Concatenate:\\n\", np.concatenate((a,b)))  # [1 2 3 4]\n",
    "print(\"VStack:\\n\", np.vstack((a,b)))\n",
    "print(\"HStack:\\n\", np.hstack((a,b)))"
   ]
  },
  {
   "cell_type": "markdown",
   "id": "7b34b3ee-82c3-49bf-97e9-d9649d2e90f5",
   "metadata": {},
   "source": [
    "Use case:\n",
    "\n",
    "Merge features or predictions\n",
    "\n",
    "Stack images or time-series data"
   ]
  },
  {
   "cell_type": "markdown",
   "id": "ae6a144d-822c-4132-8ac4-610c24f0748b",
   "metadata": {},
   "source": [
    "### 5. Split\n",
    "\n",
    "Concept:\n",
    "\n",
    "Divide arrays into multiple parts"
   ]
  },
  {
   "cell_type": "code",
   "execution_count": 35,
   "id": "30a36c4c-8c1d-4386-a352-4a1489ca8aa2",
   "metadata": {},
   "outputs": [
    {
     "name": "stdout",
     "output_type": "stream",
     "text": [
      "[0 1 2]\n",
      "[3]\n",
      "[4 5 6 7 8 9]\n"
     ]
    }
   ],
   "source": [
    "\n",
    "arr = np.arange(10)\n",
    "parts = np.split(arr, [3,4])\n",
    "for p in parts:\n",
    "    print(p)"
   ]
  },
  {
   "cell_type": "markdown",
   "id": "f9497cba-3b1d-426c-b8bd-459960759ddb",
   "metadata": {},
   "source": [
    "Use case:\n",
    "\n",
    "Manual train/test split\n",
    "\n",
    "Batch processing in ML"
   ]
  },
  {
   "cell_type": "markdown",
   "id": "999e364e-7533-4534-8ad0-406d0b2df09d",
   "metadata": {},
   "source": [
    "## Real-world Problem Example – Shape Manipulation\n",
    "\n",
    "#### Scenario: You have 6 grayscale images, each 2×2 pixels, flattened to 1D. Combine them into a batch and split into 2 parts.\n"
   ]
  },
  {
   "cell_type": "code",
   "execution_count": 36,
   "id": "19f7da11-78df-41f2-8ee6-0fe040d081ad",
   "metadata": {},
   "outputs": [
    {
     "name": "stdout",
     "output_type": "stream",
     "text": [
      "Batch shape: (6, 4)\n",
      "Part1:\n",
      " [[ 0  1  2  3]\n",
      " [ 4  5  6  7]\n",
      " [ 8  9 10 11]]\n",
      "Part2:\n",
      " [[12 13 14 15]\n",
      " [16 17 18 19]\n",
      " [20 21 22 23]]\n"
     ]
    }
   ],
   "source": [
    "\n",
    "images = np.arange(24).reshape(6,4)   # 6 images × 4 pixels\n",
    "batch = np.vstack(images)              # combine all images\n",
    "part1, part2 = np.split(batch, [3])   # split into two batches\n",
    "\n",
    "print(\"Batch shape:\", batch.shape)\n",
    "print(\"Part1:\\n\", part1)\n",
    "print(\"Part2:\\n\", part2)"
   ]
  },
  {
   "cell_type": "code",
   "execution_count": null,
   "id": "6f0e4003-f9eb-4ebd-ae0c-9de02ba61037",
   "metadata": {},
   "outputs": [],
   "source": []
  },
  {
   "cell_type": "markdown",
   "id": "5dbe0451-f3bb-4f27-90cd-a4fb0ee1b029",
   "metadata": {},
   "source": [
    "# 7️⃣ Linear Algebra in NumPy\n",
    "\n",
    "Linear algebra is essential in ML, physics, engineering, and image processing\n",
    "\n",
    "NumPy’s linalg (linear algebra) module provides efficient matrix operations — all implemented in optimized C/BLAS/LAPACK libraries."
   ]
  },
  {
   "cell_type": "markdown",
   "id": "4d157a7d-45c7-4548-a996-35a0e558d7ce",
   "metadata": {},
   "source": [
    "#### 1️⃣ Dot Product\n",
    "\n",
    "**Concept:**  \n",
    "The dot product combines two matrices (or vectors) by multiplying rows and columns.  \n",
    "It’s fundamental for neural networks, ML algorithms, and transformations.  \n",
    "Works only if inner dimensions match → (m×n) × (n×p) = (m×p)\n",
    "\n",
    "**For two 2×2 matrices:**\n",
    "\n",
    "$$\n",
    "A = \\begin{bmatrix} a_1 & a_2 \\\\ a_3 & a_4 \\end{bmatrix},\n",
    "\\quad\n",
    "B = \\begin{bmatrix} b_1 & b_2 \\\\ b_3 & b_4 \\end{bmatrix}\n",
    "$$\n",
    "\n",
    "The dot product (matrix multiplication) is:\n",
    "\n",
    "$$\n",
    "A \\times B =\n",
    "\\begin{bmatrix}\n",
    "a_1 b_1 + a_2 b_3 & a_1 b_2 + a_2 b_4 \\\\\n",
    "a_3 b_1 + a_4 b_3 & a_3 b_2 + a_4 b_4\n",
    "\\end{bmatrix}\n",
    "$$\n",
    "\n",
    "Or, in general:\n",
    "\n",
    "$$\n",
    "C_{ij} = \\sum_{k=1}^{n} A_{ik} \\times B_{kj}\n",
    "$$\n",
    "\n",
    "---\n"
   ]
  },
  {
   "cell_type": "code",
   "execution_count": 49,
   "id": "adcbb111-89cf-4f85-b1a4-efc2fb3b5064",
   "metadata": {},
   "outputs": [
    {
     "name": "stdout",
     "output_type": "stream",
     "text": [
      "Using np.dot:\n",
      " [[19 22]\n",
      " [43 50]]\n",
      "\n",
      "Using @ operator:\n",
      " [[19 22]\n",
      " [43 50]]\n"
     ]
    }
   ],
   "source": [
    "\n",
    "import numpy as np\n",
    "\n",
    "A = np.array([[1, 2],\n",
    "              [3, 4]])\n",
    "\n",
    "B = np.array([[5, 6],\n",
    "              [7, 8]])\n",
    "\n",
    "result1 = np.dot(A,B)\n",
    "result2 = A @ B\n",
    "\n",
    "print(\"Using np.dot:\\n\", result1)\n",
    "print(\"\\nUsing @ operator:\\n\", result2)\n"
   ]
  },
  {
   "cell_type": "raw",
   "id": "c2105ee4-56dc-457e-8805-e47f54c059bc",
   "metadata": {},
   "source": [
    "How it works:\n",
    "\n",
    "[1*5+2*7  1*6+2*8]\n",
    "[3*5+4*7  3*6+4*8]\n",
    "\n",
    "[5+14  6+16]\n",
    "[15+28  18+32]\n",
    "\n",
    "[19 22]\n",
    "[43 50]\n",
    "    "
   ]
  },
  {
   "cell_type": "markdown",
   "id": "3cb63585-19f0-43df-972d-1c49734c6682",
   "metadata": {},
   "source": [
    "#### 🌍 Real-World Example:\n",
    "\n",
    "Matrix multiplication (dot product) is used in:\n",
    "\n",
    "Machine Learning: computing weighted sums in neural network layers\n",
    "Example: output = weights @ inputs + bias\n",
    "\n",
    "Graphics: applying rotation/scaling transformations to 2D/3D objects\n",
    "\n",
    "Recommendation Systems: user–item preference matrix multiplication\n",
    "\n",
    "💡 Tip:\n",
    "Always ensure inner dimensions match → (m×n) @ (n×p) = (m×p)"
   ]
  },
  {
   "cell_type": "code",
   "execution_count": null,
   "id": "8711aa3c-d856-48c2-90c7-e39694f926a3",
   "metadata": {},
   "outputs": [],
   "source": []
  },
  {
   "cell_type": "code",
   "execution_count": null,
   "id": "10b32b1d-4c7b-4f5c-942f-ab2ad2e717d4",
   "metadata": {},
   "outputs": [],
   "source": []
  },
  {
   "cell_type": "code",
   "execution_count": null,
   "id": "9887aa8c-e9c5-4a2d-ac4c-64be2ce6c7e8",
   "metadata": {},
   "outputs": [],
   "source": []
  },
  {
   "cell_type": "markdown",
   "id": "948b043b-346e-4385-8dcb-dfa735380a95",
   "metadata": {},
   "source": [
    "#### 2️⃣ Transpose\n",
    "\n",
    "**Concept:**  \n",
    "The transpose flips a matrix over its diagonal — rows become columns and columns become rows.\n",
    "\n",
    "**For a 2×2 matrix:**\n",
    "\n",
    "$$\n",
    "A = \\begin{bmatrix} a_{11} & a_{12} \\\\ a_{21} & a_{22} \\end{bmatrix}\n",
    "$$\n",
    "\n",
    "The transpose is:\n",
    "\n",
    "$$\n",
    "A^T = \\begin{bmatrix} a_{11} & a_{21} \\\\ a_{12} & a_{22} \\end{bmatrix}\n",
    "$$\n",
    "\n"
   ]
  },
  {
   "cell_type": "code",
   "execution_count": 50,
   "id": "08bcf487-3394-49f0-8e72-c35c4bfc7448",
   "metadata": {},
   "outputs": [
    {
     "name": "stdout",
     "output_type": "stream",
     "text": [
      "Transpose of A:\n",
      " [[1 3]\n",
      " [2 4]]\n"
     ]
    }
   ],
   "source": [
    "\n",
    "import numpy as np\n",
    "\n",
    "A = np.array([[1, 2],\n",
    "              [3, 4]])\n",
    "\n",
    "A_T = A.T\n",
    "print(\"Transpose of A:\\n\", A_T)"
   ]
  },
  {
   "cell_type": "markdown",
   "id": "a29505e1-9667-4143-9f69-35970221c9f0",
   "metadata": {},
   "source": [
    "#### Real-World Applications:\n",
    "\n",
    "Adjusting matrix dimensions for multiplication\n",
    "\n",
    "Covariance matrix calculation in ML: \n",
    "𝑋\n",
    "𝑇\n",
    "𝑋\n",
    "X\n",
    "T\n",
    "X\n",
    "\n",
    "Gradient computation in neural networks\n",
    "\n",
    "💡 Tip:\n",
    "A.T is a view, not a copy — memory efficient."
   ]
  },
  {
   "cell_type": "code",
   "execution_count": null,
   "id": "e4273d25-5581-47fe-8b03-5c0a71e312ea",
   "metadata": {},
   "outputs": [],
   "source": []
  },
  {
   "cell_type": "code",
   "execution_count": null,
   "id": "dc7c4219-d219-4413-98b6-8a23d941ee92",
   "metadata": {},
   "outputs": [],
   "source": []
  },
  {
   "cell_type": "code",
   "execution_count": null,
   "id": "740e96ff-7524-4220-919f-cf36ae7a1af6",
   "metadata": {},
   "outputs": [],
   "source": []
  },
  {
   "cell_type": "markdown",
   "id": "744d9f57-b3c0-4a08-b2fd-9eedd370c273",
   "metadata": {},
   "source": [
    "#### 3️⃣ Inverse\n"
   ]
  },
  {
   "cell_type": "markdown",
   "id": "6a33de96-29a9-4a92-84ed-c52215178fe7",
   "metadata": {},
   "source": [
    "\n",
    "**Concept:**  \n",
    "The inverse matrix undoes the effect of a matrix.  \n",
    "If \\( A \\) transforms data, \\( A^{-1} \\) transforms it back.  \n",
    "Exists only if \\( \\text{det}(A) \\neq 0 \\).\n",
    "\n",
    "**For a 2×2 matrix:**\n",
    "\n",
    "$$\n",
    "A = \\begin{bmatrix} a & b \\\\ c & d \\end{bmatrix}\n",
    "$$\n",
    "\n",
    "$$\n",
    "A^{-1} = \\frac{1}{ad - bc} \\begin{bmatrix} d & -b \\\\ -c & a \\end{bmatrix}\n",
    "$$\n",
    "\n"
   ]
  },
  {
   "cell_type": "code",
   "execution_count": 51,
   "id": "00d7d8e8-33ca-4b0b-bdc3-6e58d0817ee6",
   "metadata": {},
   "outputs": [
    {
     "name": "stdout",
     "output_type": "stream",
     "text": [
      "Inverse of A:\n",
      " [[ 0.4 -0.2]\n",
      " [-0.2  0.6]]\n",
      "\n",
      "A @ A_inv = Identity\n",
      " [[1. 0.]\n",
      " [0. 1.]]\n"
     ]
    }
   ],
   "source": [
    "A = np.array([[3, 1],\n",
    "              [1, 2]])\n",
    "\n",
    "A_inv = np.linalg.inv(A)\n",
    "print(\"Inverse of A:\\n\", A_inv)\n",
    "\n",
    "# Verify\n",
    "I = A @ A_inv\n",
    "print(\"\\nA @ A_inv = Identity\\n\", I)"
   ]
  },
  {
   "cell_type": "markdown",
   "id": "4671b1c8-b5ff-4788-9a78-9f3a307a32fa",
   "metadata": {},
   "source": [
    "Real-World Applications:\n",
    "\n",
    "#### Solving linear systems: \n",
    "𝐴\n",
    "𝑥\n",
    "=\n",
    "𝑏\n",
    "\n",
    "#### ML Normal Equation: \n",
    "𝜃\n",
    "=\n",
    "(\n",
    "𝑋\n",
    "𝑇\n",
    "𝑋\n",
    ")\n",
    "−\n",
    "1\n",
    "𝑋\n",
    "𝑇\n",
    "𝑦\n",
    "θ=(X\n",
    "T\n",
    "X)\n",
    "−1\n",
    "X\n",
    "T\n",
    "y\n",
    "\n",
    "Robotics & control: reverse transformations\n",
    "\n",
    "💡 Tip:\n",
    "Prefer np.linalg.solve(A,b) over A_inv @ b — faster and numerically stable."
   ]
  },
  {
   "cell_type": "code",
   "execution_count": null,
   "id": "d62a60c8-494f-407d-8f38-69bfae19defe",
   "metadata": {},
   "outputs": [],
   "source": []
  },
  {
   "cell_type": "code",
   "execution_count": null,
   "id": "77a8d654-dfc0-47fe-8129-b23ae09e6f72",
   "metadata": {},
   "outputs": [],
   "source": []
  },
  {
   "cell_type": "code",
   "execution_count": null,
   "id": "7789ca8c-8a64-4ae8-bb30-15449de8fc63",
   "metadata": {},
   "outputs": [],
   "source": []
  },
  {
   "cell_type": "markdown",
   "id": "5bf3829c-b662-4078-8d82-36eb2bd7632a",
   "metadata": {},
   "source": [
    "#### 4 Determinant\n",
    "\n",
    "Concept:\\\n",
    "The determinant tells whether a matrix is invertible and gives insight into its linear independence.\\\n",
    "A determinant is a single number calculated from a square matrix (like 2×2, 3×3, etc).\\\n",
    "It tells us how much the matrix scales space — and whether it is invertible or not.\n",
    "\n",
    "📘 Why is it important?\n",
    "\n",
    "🔹 If determinant = 0, the matrix is singular (non-invertible) → can’t find its inverse.\n",
    "\n",
    "🔹 If determinant ≠ 0, the matrix is invertible.\n",
    "\n",
    "🔹 The sign of determinant tells orientation (flipped or not).\n",
    "\n",
    "🔹 The magnitude tells how much area/volume is scaled."
   ]
  },
  {
   "cell_type": "code",
   "execution_count": 43,
   "id": "44b0c248-060f-4db9-ac58-cbb39736603d",
   "metadata": {},
   "outputs": [
    {
     "name": "stdout",
     "output_type": "stream",
     "text": [
      "Determinant: -2.0000000000000004\n"
     ]
    }
   ],
   "source": [
    "A = np.array([[1, 2],\n",
    "              [3, 4]])\n",
    "det = np.linalg.det(A)\n",
    "print(\"Determinant:\", det)\n"
   ]
  },
  {
   "cell_type": "markdown",
   "id": "bc437644-b5df-4cbe-b8f7-de060d631330",
   "metadata": {},
   "source": [
    "##### How it’s calculated (manually)\n",
    "\n",
    "For a 2×2 matrix:\n",
    "$$\n",
    "A = \\begin{bmatrix} a & b \\\\ c & d \\end{bmatrix}\n",
    "$$\n",
    "\n",
    "The determinant is:\n",
    "$$\n",
    "\\text{det}(A) = ad - bc\n",
    "$$\n",
    "\n",
    "\n",
    "Determinant = ad - bc\n",
    "\n",
    "In our example:\\\n",
    "→ (1×4) - (2×3) = 4 - 6 = -2\n",
    "\n",
    "That’s why output is -2 ✅"
   ]
  },
  {
   "cell_type": "markdown",
   "id": "1ba721fa-346d-44e2-9629-72921c1f1134",
   "metadata": {},
   "source": [
    "🌍 Real-World Applications:\n",
    "\n",
    "Check if matrix is invertible (det ≠ 0)\n",
    "\n",
    "Area/volume scaling in geometry\n",
    "\n",
    "Covariance matrices in statistics and ML\n",
    "\n",
    "💡 Tip:\n",
    "det(A) = 0 → singular matrix → cannot invert"
   ]
  },
  {
   "cell_type": "code",
   "execution_count": null,
   "id": "848ec1f5-4c8b-40bc-8e48-ce485543c9e7",
   "metadata": {},
   "outputs": [],
   "source": []
  },
  {
   "cell_type": "code",
   "execution_count": null,
   "id": "d9261c5d-05ca-4243-8992-2f016e0c684d",
   "metadata": {},
   "outputs": [],
   "source": []
  },
  {
   "cell_type": "code",
   "execution_count": null,
   "id": "a4940477-75f1-4519-9948-53caa882f7fe",
   "metadata": {},
   "outputs": [],
   "source": []
  },
  {
   "cell_type": "markdown",
   "id": "9ea6768e-4e72-40d2-b0d3-fe8a5cf90492",
   "metadata": {},
   "source": [
    "\n",
    "#### 5️⃣ Eigenvalues & Eigenvectors\n",
    "\n",
    "**Concept:**  \n",
    "Eigenvectors of a matrix do not change direction when the matrix is applied, only scaled by the **eigenvalue**.\n",
    "\n",
    "$$\n",
    "A v = \\lambda v\n",
    "$$\n",
    "\n",
    "    \n",
    "\n"
   ]
  },
  {
   "cell_type": "markdown",
   "id": "2df477ca-22f8-4074-b3e8-149f1052f63a",
   "metadata": {},
   "source": [
    "For a square matrix \\(A\\):\n",
    "$$\n",
    "A v = \\lambda v\n",
    "$$\n",
    "\n",
    "To find eigenvalues (\\(\\lambda\\)):\n",
    "$$\n",
    "\\text{det}(A - \\lambda I) = 0\n",
    "$$\n",
    "\n",
    "Then, to find eigenvectors (\\(v\\)):\n",
    "$$\n",
    "(A - \\lambda I)v = 0\n",
    "$$\n"
   ]
  },
  {
   "cell_type": "code",
   "execution_count": 54,
   "id": "74cd0acf-b1e5-4761-a734-e3a980f91bb0",
   "metadata": {
    "scrolled": true
   },
   "outputs": [
    {
     "name": "stdout",
     "output_type": "stream",
     "text": [
      "Eigenvalues: [3. 1.]\n",
      "Eigenvectors:\n",
      " [[ 0.70710678 -0.70710678]\n",
      " [ 0.70710678  0.70710678]]\n"
     ]
    }
   ],
   "source": [
    "A = np.array([[2, 1],\n",
    "              [1, 2]])\n",
    "\n",
    "values, vectors = np.linalg.eig(A)\n",
    "print(\"Eigenvalues:\", values)\n",
    "print(\"Eigenvectors:\\n\", vectors)"
   ]
  },
  {
   "cell_type": "code",
   "execution_count": null,
   "id": "ad11b3aa-34b2-4a4c-a356-7338f89f4dc8",
   "metadata": {},
   "outputs": [],
   "source": []
  },
  {
   "cell_type": "markdown",
   "id": "fe11715c-78c6-42d1-90f3-cb6290bb68d0",
   "metadata": {},
   "source": [
    "🌍 Real-World Applications:\n",
    "\n",
    "PCA in ML (dimensionality reduction)\n",
    "\n",
    "Physics: vibration modes, quantum mechanics\n",
    "\n",
    "Stability analysis in engineering\n",
    "\n",
    "💡 Tip:\n",
    "Eigenvalues show how much a direction “stretches” → important in variance analysis"
   ]
  },
  {
   "cell_type": "code",
   "execution_count": null,
   "id": "3a980a49-7c8a-4f91-87af-08c391b9d753",
   "metadata": {},
   "outputs": [],
   "source": []
  },
  {
   "cell_type": "code",
   "execution_count": null,
   "id": "3e78743a-9552-4319-82e9-950996af8212",
   "metadata": {},
   "outputs": [],
   "source": []
  },
  {
   "cell_type": "code",
   "execution_count": null,
   "id": "60ee229b-7a89-4aed-b91e-aa717d05bf8a",
   "metadata": {},
   "outputs": [],
   "source": []
  },
  {
   "cell_type": "markdown",
   "id": "0fb42eb1-aeb1-44dc-88dc-7071d71c9e0a",
   "metadata": {},
   "source": [
    "#### Solving Linear Equations"
   ]
  },
  {
   "cell_type": "markdown",
   "id": "e8f25af3-72a5-4b94-9f46-453162401e6a",
   "metadata": {},
   "source": [
    "For a linear system:\n",
    "$$\n",
    "A x = b\n",
    "$$\n",
    "\n",
    "where\n",
    "$$\n",
    "A = \\begin{bmatrix} a_{11} & a_{12} \\\\ a_{21} & a_{22} \\end{bmatrix},\n",
    "\\quad\n",
    "x = \\begin{bmatrix} x_1 \\\\ x_2 \\end{bmatrix},\n",
    "\\quad\n",
    "b = \\begin{bmatrix} b_1 \\\\ b_2 \\end{bmatrix}\n",
    "$$\n",
    "\n",
    "\n",
    "The solution is:\n",
    "$$\n",
    "x = A^{-1} b\n",
    "$$\n"
   ]
  },
  {
   "cell_type": "code",
   "execution_count": 56,
   "id": "c9400132-8722-4880-aefc-dc49e7da041b",
   "metadata": {},
   "outputs": [
    {
     "name": "stdout",
     "output_type": "stream",
     "text": [
      "Solution x: [2. 3.]\n"
     ]
    }
   ],
   "source": [
    "A = np.array([[3, 1],\n",
    "              [1, 2]])\n",
    "b = np.array([9, 8])\n",
    "\n",
    "x = np.linalg.solve(A, b)\n",
    "print(\"Solution x:\", x)"
   ]
  },
  {
   "cell_type": "markdown",
   "id": "a8f9737d-11b1-4fe2-96a4-2d52f25cbb1d",
   "metadata": {},
   "source": [
    "🌍 Real-World Applications:\n",
    "\n",
    "Solving regression equations in ML\n",
    "\n",
    "Physics systems (forces, velocities)\n",
    "\n",
    "Engineering & control systems\n",
    "\n",
    "💡 Tip:\n",
    "np.linalg.solve(A,b) is faster and more stable than using np.linalg.inv(A) @ b."
   ]
  },
  {
   "cell_type": "code",
   "execution_count": null,
   "id": "0e68ee3d-dbd3-44e0-b057-01c95dd64eee",
   "metadata": {},
   "outputs": [],
   "source": []
  },
  {
   "cell_type": "code",
   "execution_count": null,
   "id": "b190c281-bdbc-412c-b772-422bab74b6b4",
   "metadata": {},
   "outputs": [],
   "source": []
  },
  {
   "cell_type": "markdown",
   "id": "1c8cbeda-e562-406c-b360-15dab3d9d2f0",
   "metadata": {},
   "source": [
    "# 8️⃣ Random Module"
   ]
  },
  {
   "cell_type": "code",
   "execution_count": null,
   "id": "c7fac25a-78cc-40ae-bc93-aa5a0eb3236a",
   "metadata": {},
   "outputs": [],
   "source": []
  }
 ],
 "metadata": {
  "kernelspec": {
   "display_name": "Python 3 (ipykernel)",
   "language": "python",
   "name": "python3"
  },
  "language_info": {
   "codemirror_mode": {
    "name": "ipython",
    "version": 3
   },
   "file_extension": ".py",
   "mimetype": "text/x-python",
   "name": "python",
   "nbconvert_exporter": "python",
   "pygments_lexer": "ipython3",
   "version": "3.14.0"
  }
 },
 "nbformat": 4,
 "nbformat_minor": 5
}
