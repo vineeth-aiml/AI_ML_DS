{
 "cells": [
  {
   "cell_type": "markdown",
   "id": "083adc26-212a-4de9-b668-02c7bbebb415",
   "metadata": {},
   "source": [
    "# 🟢 Hard-Level NumPy Practice Problems\n"
   ]
  },
  {
   "cell_type": "markdown",
   "id": "891e22fa-12bc-43f8-8583-9ede9c3806a2",
   "metadata": {},
   "source": [
    "## 1. Matrix Row Normalization\n",
    "\n",
    "#### Given a 2D array, normalize each row to have mean 0 and standard deviation 1."
   ]
  },
  {
   "cell_type": "code",
   "execution_count": 1,
   "id": "2d13ab30-f6e1-4e05-852d-daa0d100175d",
   "metadata": {},
   "outputs": [
    {
     "name": "stdout",
     "output_type": "stream",
     "text": [
      "Original array:\n",
      " [[1 2 3]\n",
      " [4 5 6]\n",
      " [7 8 9]]\n",
      "Row-wise mean:\n",
      " [[2.]\n",
      " [5.]\n",
      " [8.]]\n",
      "Row-wise std:\n",
      " [[0.81649658]\n",
      " [0.81649658]\n",
      " [0.81649658]]\n",
      "Row-normalized array:\n",
      " [[-1.22474487  0.          1.22474487]\n",
      " [-1.22474487  0.          1.22474487]\n",
      " [-1.22474487  0.          1.22474487]]\n"
     ]
    }
   ],
   "source": [
    "import numpy as np\n",
    "\n",
    "# Example 2D array\n",
    "arr = np.array([[1, 2, 3],\n",
    "                [4, 5, 6],\n",
    "                [7, 8, 9]])\n",
    "print(\"Original array:\\n\", arr)\n",
    "# Mean along each row (axis=1) -> shape (n_rows,)\n",
    "row_mean = arr.mean(axis=1, keepdims=True)  # keepdims=True keeps shape (n_rows,1)\n",
    "row_std = arr.std(axis=1, keepdims=True)    # same here\n",
    "print(\"Row-wise mean:\\n\", row_mean)\n",
    "print(\"Row-wise std:\\n\", row_std)\n",
    "# Normalize\n",
    "normalized_arr = (arr - row_mean) / row_std\n",
    "print(\"Row-normalized array:\\n\", normalized_arr)\n"
   ]
  },
  {
   "cell_type": "markdown",
   "id": "c93ae23c-d424-4556-bbf3-e78fa07dd35e",
   "metadata": {},
   "source": [
    "## 2. Diagonal Pattern Matrix\n",
    "##### Create a 2D square matrix of size n where:\n",
    "##### Main diagonal = 1\n",
    "##### Above diagonal = 2\n",
    "##### Below diagonal = 3\n",
    "##### No loops allowed"
   ]
  },
  {
   "cell_type": "code",
   "execution_count": 2,
   "id": "2011c5c7-a09c-435c-8a68-dac3bdc5bae7",
   "metadata": {},
   "outputs": [
    {
     "name": "stdout",
     "output_type": "stream",
     "text": [
      "[[1 2 2 2 2]\n",
      " [3 1 2 2 2]\n",
      " [3 3 1 2 2]\n",
      " [3 3 3 1 2]\n",
      " [3 3 3 3 1]]\n"
     ]
    }
   ],
   "source": [
    "# np.ones((n,n)) creates the initial main diagonal with 1.\n",
    "# np.triu_indices(n, k=1) → indices of upper triangle above the main diagonal.\n",
    "# np.tril_indices(n, k=-1) → indices of lower triangle below the main diagonal.\n",
    "\n",
    "\n",
    "n = 5  # size of the square matrix\n",
    "\n",
    "# Initialize main diagonal with 1\n",
    "matrix = np.ones((n, n), dtype=int)\n",
    "\n",
    "# Fill above diagonal with 2\n",
    "matrix[np.triu_indices(n, k=1)] = 2\n",
    "\n",
    "# Fill below diagonal with 3\n",
    "matrix[np.tril_indices(n, k=-1)] = 3\n",
    "\n",
    "print(matrix)"
   ]
  },
  {
   "cell_type": "markdown",
   "id": "927fc627-aad5-4a52-a6f4-ead439b6635c",
   "metadata": {},
   "source": [
    "## 3️⃣ Sliding Window Sum (1D array)"
   ]
  },
  {
   "cell_type": "code",
   "execution_count": 3,
   "id": "e1e4706b-e86b-4b07-ac77-4518e67f0804",
   "metadata": {},
   "outputs": [
    {
     "name": "stdout",
     "output_type": "stream",
     "text": [
      "[ 6  9 12 15]\n"
     ]
    }
   ],
   "source": [
    "import numpy as np\n",
    "\n",
    "arr = np.array([1, 2, 3, 4, 5, 6])\n",
    "window = 3\n",
    "\n",
    "# Use stride tricks\n",
    "from numpy.lib.stride_tricks import sliding_window_view\n",
    "sliding_sums = sliding_window_view(arr, window).sum(axis=1)\n",
    "print(sliding_sums)"
   ]
  },
  {
   "cell_type": "markdown",
   "id": "6c21d0b6-49e1-4a6e-ac43-d9d5a8f46bef",
   "metadata": {},
   "source": [
    "## 4️⃣ Multi-Dimensional Indexing (3D array)"
   ]
  },
  {
   "cell_type": "code",
   "execution_count": 4,
   "id": "b36579b7-3f83-416c-bfb0-8d64f150b33f",
   "metadata": {},
   "outputs": [
    {
     "name": "stdout",
     "output_type": "stream",
     "text": [
      "[ 0  2  4  6  8 10 12 14 16 18 20 22 24 26]\n"
     ]
    }
   ],
   "source": [
    "arr = np.arange(27).reshape(3,3,3)\n",
    "indices = np.indices(arr.shape)\n",
    "mask = (indices[0] + indices[1] + indices[2]) % 2 == 0\n",
    "result = arr[mask]\n",
    "print(result)\n"
   ]
  },
  {
   "cell_type": "markdown",
   "id": "80eedc1b-6a72-4d30-9560-1e097499aa6f",
   "metadata": {},
   "source": [
    "## 5️⃣ Unique Rows of a 2D Array"
   ]
  },
  {
   "cell_type": "code",
   "execution_count": 5,
   "id": "46518a7c-cdf2-46ca-8395-2c3e8333ebda",
   "metadata": {},
   "outputs": [
    {
     "name": "stdout",
     "output_type": "stream",
     "text": [
      "[[1 2]\n",
      " [3 4]]\n"
     ]
    }
   ],
   "source": [
    "arr = np.array([[1,2],[1,2],[3,4]])\n",
    "unique_rows = np.unique(arr,axis=0)\n",
    "print(unique_rows)"
   ]
  },
  {
   "cell_type": "markdown",
   "id": "53fd0de3-a453-4349-ad1d-ceb36a25325f",
   "metadata": {},
   "source": [
    "## 6️⃣ Pairwise Distance Matrix"
   ]
  },
  {
   "cell_type": "code",
   "execution_count": 6,
   "id": "b82b2ccf-94e3-4232-8506-4d2cfb0f2a10",
   "metadata": {},
   "outputs": [
    {
     "name": "stdout",
     "output_type": "stream",
     "text": [
      "[[0.         1.         1.        ]\n",
      " [1.         0.         1.41421356]\n",
      " [1.         1.41421356 0.        ]]\n"
     ]
    }
   ],
   "source": [
    "points = np.array([[0,0],[1,0],[0,1]])\n",
    "diff = points[:, np.newaxis, :] - points[np.newaxis, :, :]\n",
    "dist_matrix = np.sqrt(np.sum(diff**2, axis=-1))\n",
    "print(dist_matrix)\n"
   ]
  },
  {
   "cell_type": "markdown",
   "id": "87942fe8-80f5-44de-a1cc-118813b032b3",
   "metadata": {},
   "source": [
    "## 7️⃣ Boolean Masking"
   ]
  },
  {
   "cell_type": "code",
   "execution_count": 8,
   "id": "c7f2d904-be1d-4488-af97-6c681e23105d",
   "metadata": {},
   "outputs": [
    {
     "name": "stdout",
     "output_type": "stream",
     "text": [
      "[[1 0 1 0]\n",
      " [0 1 0 1]\n",
      " [1 0 0 0]]\n"
     ]
    }
   ],
   "source": [
    "\n",
    "arr = np.random.randint(0,10,(3,4))\n",
    "mask = arr > arr.mean(axis=1, keepdims=True)\n",
    "result = mask.astype(int)\n",
    "print(result)\n"
   ]
  },
  {
   "cell_type": "markdown",
   "id": "7f54159f-247c-4cb4-b07f-47d12623bd43",
   "metadata": {},
   "source": [
    "## 8️⃣ Cumulative Product Along Axis (reset at 0)"
   ]
  },
  {
   "cell_type": "code",
   "execution_count": 10,
   "id": "b9140dcc-7ed5-4a9a-b828-425da509b19e",
   "metadata": {},
   "outputs": [
    {
     "name": "stdout",
     "output_type": "stream",
     "text": [
      "[[1 2 0 3]\n",
      " [2 0 2 4]]\n"
     ]
    }
   ],
   "source": [
    "\n",
    "\n",
    "arr = np.array([[1,2,0,3],[2,0,2,2]])\n",
    "def cumprod_reset(row):\n",
    "    out = []\n",
    "    prod = 1\n",
    "    for x in row:\n",
    "        if x == 0:\n",
    "            prod = 1\n",
    "            out.append(0)\n",
    "        else:\n",
    "            prod *= x\n",
    "            out.append(prod)\n",
    "    return out\n",
    "\n",
    "result = np.array([cumprod_reset(r) for r in arr])\n",
    "print(result)\n",
    "\n",
    "\n",
    "##Note: This uses a comprehension; fully vectorized solution is more complex.\n"
   ]
  },
  {
   "cell_type": "markdown",
   "id": "e75957ba-b99b-4d94-8565-bc29025d89b5",
   "metadata": {},
   "source": [
    "## 9️⃣ Fancy Indexing Shuffle"
   ]
  },
  {
   "cell_type": "code",
   "execution_count": 11,
   "id": "98f9b03d-532b-418a-9ca1-30b1f89380a0",
   "metadata": {},
   "outputs": [
    {
     "name": "stdout",
     "output_type": "stream",
     "text": [
      "[[ 3  0  1  2]\n",
      " [ 7  4  5  6]\n",
      " [11  8  9 10]]\n"
     ]
    }
   ],
   "source": [
    "\n",
    "arr = np.arange(12).reshape(3,4)\n",
    "shuffled_arr = arr[:, np.random.permutation(arr.shape[1])]\n",
    "print(shuffled_arr)\n"
   ]
  },
  {
   "cell_type": "markdown",
   "id": "4363d68f-4c87-4d63-82c1-4082e5b6bb77",
   "metadata": {},
   "source": [
    "### 1️⃣0️⃣ Extract Top-k Elements (per row)"
   ]
  },
  {
   "cell_type": "code",
   "execution_count": 12,
   "id": "ccb30f43-996e-4e32-9ddb-11bda7a5f7a1",
   "metadata": {},
   "outputs": [
    {
     "name": "stdout",
     "output_type": "stream",
     "text": [
      "[[0 2 3]\n",
      " [1 0 3]]\n"
     ]
    }
   ],
   "source": [
    "\n",
    "arr = np.array([[5,1,3,2],[4,6,0,1]])\n",
    "top3_idx = np.argpartition(-arr, 3, axis=1)[:,:3]\n",
    "print(top3_idx)\n"
   ]
  },
  {
   "cell_type": "markdown",
   "id": "a55858a6-85b8-4066-b389-b6e17e6c59cc",
   "metadata": {},
   "source": [
    "## 1️⃣1️⃣ Boolean Array Compression"
   ]
  },
  {
   "cell_type": "code",
   "execution_count": 13,
   "id": "c96aa554-a453-4d1b-81db-70a24522a5f7",
   "metadata": {},
   "outputs": [
    {
     "name": "stdout",
     "output_type": "stream",
     "text": [
      "[(np.int64(0), np.int64(1)), (np.int64(3), np.int64(5))]\n"
     ]
    }
   ],
   "source": [
    "\n",
    "bool_arr = np.array([True, True, False, True, True, True])\n",
    "true_indices = np.flatnonzero(bool_arr)\n",
    "slices = [(s[0], s[-1]) for s in np.split(true_indices, np.where(np.diff(true_indices)!=1)[0]+1)]\n",
    "print(slices)\n"
   ]
  },
  {
   "cell_type": "markdown",
   "id": "6d41c02a-a825-44fd-8c59-a24c742409d5",
   "metadata": {},
   "source": [
    "## 1️⃣2️⃣ Advanced Broadcasting"
   ]
  },
  {
   "cell_type": "code",
   "execution_count": 14,
   "id": "52c575d6-59fc-4743-8541-59f59450923d",
   "metadata": {},
   "outputs": [
    {
     "name": "stdout",
     "output_type": "stream",
     "text": [
      "[[1. 1. 1. 1.]\n",
      " [2. 2. 2. 2.]\n",
      " [3. 3. 3. 3.]\n",
      " [4. 4. 4. 4.]]\n"
     ]
    }
   ],
   "source": [
    "\n",
    "\n",
    "arr2d = np.ones((4,4))\n",
    "arr1d = np.array([1,2,3,4])\n",
    "result = arr2d * arr1d[:, np.newaxis]\n",
    "print(result)\n"
   ]
  },
  {
   "cell_type": "markdown",
   "id": "d12b1b3b-497c-424c-9955-4a6a396122a6",
   "metadata": {},
   "source": [
    "## 1️⃣3️⃣ FFT & Signal Manipulation"
   ]
  },
  {
   "cell_type": "code",
   "execution_count": 15,
   "id": "8c16cb46-7f59-4d84-a191-1099e65fee2f",
   "metadata": {},
   "outputs": [
    {
     "name": "stdout",
     "output_type": "stream",
     "text": [
      "[-0.02780445+0.j  0.07100795+0.j -0.07980048+0.j  0.0490315 +0.j\n",
      "  0.00327493+0.j -0.04647843+0.j  0.05527096+0.j -0.02450198+0.j]\n"
     ]
    }
   ],
   "source": [
    "\n",
    "signal = np.random.rand(8)\n",
    "fft_signal = np.fft.fft(signal)\n",
    "threshold = 0.5\n",
    "fft_signal[np.abs(fft_signal) > threshold] = 0\n",
    "filtered_signal = np.fft.ifft(fft_signal)\n",
    "print(filtered_signal)\n",
    "\n"
   ]
  },
  {
   "cell_type": "markdown",
   "id": "25a82913-8a43-4452-8765-16c7c42a1a10",
   "metadata": {},
   "source": [
    "## 1️⃣4️⃣ Random Rotation Matrix (3x3)"
   ]
  },
  {
   "cell_type": "code",
   "execution_count": 19,
   "id": "797d3261-516c-48b8-8236-b286e14e32d4",
   "metadata": {},
   "outputs": [
    {
     "name": "stdout",
     "output_type": "stream",
     "text": [
      "[[-0.05377893  0.9933406   0.10189342]\n",
      " [-0.95524422 -0.02145229 -0.29503945]\n",
      " [-0.29088881 -0.11320001  0.95003655]]\n"
     ]
    }
   ],
   "source": [
    "# ! pip install scipy\n",
    "from scipy.stats import special_ortho_group\n",
    "rot_matrix = special_ortho_group.rvs(3)\n",
    "print(rot_matrix)\n",
    "\n",
    "### Optional NumPy-only: Use QR decomposition of random matrix.\n"
   ]
  },
  {
   "cell_type": "markdown",
   "id": "0c0bbc75-8678-43fc-81c2-31c8981645ce",
   "metadata": {},
   "source": [
    "## 1️⃣5️⃣ Image Convolution (3x3 Kernel)"
   ]
  },
  {
   "cell_type": "code",
   "execution_count": 21,
   "id": "f5f33bc2-5730-429f-96ea-ae9def814b9d",
   "metadata": {},
   "outputs": [
    {
     "name": "stdout",
     "output_type": "stream",
     "text": [
      "[[2.8468208  3.48359425 3.10502503 2.23600179 1.59922834]\n",
      " [4.3272198  5.10754694 4.32908578 3.16448372 2.38415659]\n",
      " [4.7796808  5.825283   4.37021555 3.10653496 2.06093276]\n",
      " [3.91070785 4.92792755 4.42272557 3.52247973 2.50526003]\n",
      " [2.43030885 3.30397487 3.19866483 2.5939978  1.72033178]]\n"
     ]
    }
   ],
   "source": [
    "\n",
    "\n",
    "from scipy.signal import convolve2d\n",
    "\n",
    "image = np.random.rand(5,5)\n",
    "kernel = np.ones((3,3))\n",
    "convolved = convolve2d(image, kernel, mode='same')\n",
    "print(convolved)\n",
    "\n"
   ]
  },
  {
   "cell_type": "markdown",
   "id": "c0771465-a373-4c12-80f0-79cd607b8397",
   "metadata": {},
   "source": [
    "## 1️⃣6️⃣ Eigenvalues & Eigenvectors"
   ]
  },
  {
   "cell_type": "code",
   "execution_count": 23,
   "id": "0bc54a04-965f-44eb-a264-7d5c522ee68b",
   "metadata": {},
   "outputs": [
    {
     "name": "stdout",
     "output_type": "stream",
     "text": [
      "True\n"
     ]
    }
   ],
   "source": [
    "\n",
    "A = np.array([[2,1],[1,2]])\n",
    "eigvals, eigvecs = np.linalg.eigh(A)\n",
    "D = np.diag(eigvals)\n",
    "P = eigvecs\n",
    "print(np.allclose(A, P @ D @ P.T))\n",
    "\n"
   ]
  },
  {
   "cell_type": "markdown",
   "id": "d6bb1018-b3e9-486a-8b33-9f8369ecfab2",
   "metadata": {},
   "source": [
    "## 1️⃣7️⃣ Histogram Equalization"
   ]
  },
  {
   "cell_type": "code",
   "execution_count": 25,
   "id": "dbe38553-445d-4a76-b3c3-4a9d2f63a468",
   "metadata": {},
   "outputs": [
    {
     "name": "stdout",
     "output_type": "stream",
     "text": [
      "[0.         1.14285714 1.14285714 1.71428571 3.42857143 3.42857143\n",
      " 3.42857143 4.        ]\n"
     ]
    }
   ],
   "source": [
    "\n",
    "img = np.array([0,1,1,2,3,3,3,4])\n",
    "hist, bins = np.histogram(img, bins=range(img.max()+2))\n",
    "cdf = hist.cumsum()\n",
    "cdf_normalized = (cdf - cdf.min())/(cdf.max()-cdf.min())*img.max()\n",
    "equalized = cdf_normalized[img]\n",
    "print(equalized)\n"
   ]
  },
  {
   "cell_type": "markdown",
   "id": "d3d261bd-6a3b-4597-a2f7-e2b8f60ec1f3",
   "metadata": {},
   "source": [
    "## 1️⃣8️⃣ Advanced Masking (column median)"
   ]
  },
  {
   "cell_type": "code",
   "execution_count": 31,
   "id": "a986ce90-7cd8-4a81-995f-10308ce06325",
   "metadata": {},
   "outputs": [
    {
     "name": "stdout",
     "output_type": "stream",
     "text": [
      "Original array:\n",
      " [[3 4 9 0]\n",
      " [6 9 3 8]\n",
      " [6 8 3 1]]\n",
      "Modified array:\n",
      " [[6 8 9 1]\n",
      " [6 9 3 8]\n",
      " [6 8 3 1]]\n"
     ]
    }
   ],
   "source": [
    "\n",
    "import numpy as np\n",
    "\n",
    "arr = np.random.randint(0,10,(3,4))\n",
    "print(\"Original array:\\n\", arr)\n",
    "\n",
    "col_median = np.median(arr, axis=0)       # shape (4,)\n",
    "col_mean = arr.mean(axis=0)               # shape (4,)\n",
    "\n",
    "# Broadcast col_median along rows\n",
    "mask = arr < col_mean\n",
    "arr[mask] = np.broadcast_to(col_median, arr.shape)[mask]\n",
    "\n",
    "print(\"Modified array:\\n\", arr)\n"
   ]
  },
  {
   "cell_type": "markdown",
   "id": "93ccb8af-a589-406c-8b16-e8701c9ac0fe",
   "metadata": {},
   "source": [
    "## 1️⃣9️⃣ Memory-Efficient Large Array"
   ]
  },
  {
   "cell_type": "code",
   "execution_count": 35,
   "id": "63566aa0-cf5f-4682-99f7-091abf58d728",
   "metadata": {},
   "outputs": [
    {
     "name": "stdout",
     "output_type": "stream",
     "text": [
      "646020003284035456\n"
     ]
    }
   ],
   "source": [
    "\n",
    "arr = np.arange(1, 10_000_001)\n",
    "even_squares_sum = np.sum(arr[arr%2==0]**2)\n",
    "print(even_squares_sum)\n",
    "\n"
   ]
  },
  {
   "cell_type": "markdown",
   "id": "afbd78ff-f131-4375-8416-7809f5d1971b",
   "metadata": {},
   "source": [
    "## 2️⃣0️⃣ Custom Aggregation Function"
   ]
  },
  {
   "cell_type": "code",
   "execution_count": 37,
   "id": "58bf5be9-e23b-49a1-9252-166f33dbaf0f",
   "metadata": {},
   "outputs": [
    {
     "name": "stdout",
     "output_type": "stream",
     "text": [
      "[1.4 3.2]\n"
     ]
    }
   ],
   "source": [
    "\n",
    "def row_weighted_sum(arr, weights):\n",
    "    return arr @ weights  # matrix multiplication\n",
    "\n",
    "arr = np.array([[1,2,3],[4,5,6]])\n",
    "weights = np.array([0.1,0.2,0.3])\n",
    "result = row_weighted_sum(arr, weights)\n",
    "print(result)"
   ]
  },
  {
   "cell_type": "code",
   "execution_count": null,
   "id": "6d0cb65e-7db7-4db6-a98b-79a58cd3f4e0",
   "metadata": {},
   "outputs": [],
   "source": []
  }
 ],
 "metadata": {
  "kernelspec": {
   "display_name": "Python 3 (ipykernel)",
   "language": "python",
   "name": "python3"
  },
  "language_info": {
   "codemirror_mode": {
    "name": "ipython",
    "version": 3
   },
   "file_extension": ".py",
   "mimetype": "text/x-python",
   "name": "python",
   "nbconvert_exporter": "python",
   "pygments_lexer": "ipython3",
   "version": "3.14.0"
  }
 },
 "nbformat": 4,
 "nbformat_minor": 5
}
