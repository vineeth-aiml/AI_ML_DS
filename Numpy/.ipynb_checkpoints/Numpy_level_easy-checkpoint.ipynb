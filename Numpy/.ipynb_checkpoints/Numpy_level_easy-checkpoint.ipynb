{
 "cells": [
  {
   "cell_type": "markdown",
   "id": "56e6bff2-c826-44bd-8b50-9e6c55c2432d",
   "metadata": {},
   "source": [
    "# Numpy Easy Level 25 quetions based on basic topics"
   ]
  },
  {
   "cell_type": "markdown",
   "id": "9afe3538-3e0b-4bb5-8ff9-7da5fde75266",
   "metadata": {},
   "source": [
    "| S.no  | Topic                 | Problem                                              |\n",
    "| -- | --------------------- | ---------------------------------------------------- |\n",
    "| 1  | Array Creation        | Create a 1D NumPy array from a list `[1,2,3,4,5]`    |\n",
    "| 2  | Array Creation        | Create a 2D array of zeros of shape (3,4)            |\n",
    "| 3  | Array Creation        | Create a 3×3 identity matrix                         |\n",
    "| 4  | Array Creation        | Create an array of even numbers between 10 and 50    |\n",
    "| 5  | Array Creation        | Create an array of 10 random integers between 1–100  |\n",
    "| 6  | Array Info            | Get shape, size, ndim, dtype of an array             |\n",
    "| 7  | Datatype Conversion   | Convert a float array to int                         |\n",
    "| 8  | Indexing              | Extract even-indexed elements from an array          |\n",
    "| 9  | Slicing               | Reverse a 1D array using slicing                     |\n",
    "| 10 | Indexing              | Get the 2nd column from a 2D array                   |\n",
    "| 11 | Indexing              | Replace all odd numbers with `-1`                    |\n",
    "| 12 | Conditional Selection | Extract all elements > mean                          |\n",
    "| 13 | Masking               | Replace all NaNs with 0 in an array                  |\n",
    "| 14 | Stacking              | Stack two arrays vertically and horizontally         |\n",
    "| 15 | Reshaping             | Reshape a 1D array of 12 elements into 3×4           |\n",
    "| 16 | Flatten               | Convert a 2D array into a 1D array                   |\n",
    "| 17 | Concatenation         | Join two 1D arrays end to end                        |\n",
    "| 18 | Split                 | Split an array into 3 equal parts                    |\n",
    "| 19 | Sorting               | Sort an array in ascending and descending order      |\n",
    "| 20 | Searching             | Find index of max and min element                    |\n",
    "| 21 | Random                | Create an array of random floats between 0 and 1     |\n",
    "| 22 | Basic Math            | Compute sum, mean, std, var, and median              |\n",
    "| 23 | Broadcasting          | Add a 1D array `[1,2,3]` to each row of a 3×3 matrix |\n",
    "| 24 | Boolean Logic         | Count elements greater than 50 in an array           |\n",
    "| 25 | Copying               | Show difference between shallow and deep copy        |\n"
   ]
  },
  {
   "cell_type": "markdown",
   "id": "8d5f218a-7738-467b-86f8-961ca15e3765",
   "metadata": {},
   "source": [
    "## Array Creation"
   ]
  },
  {
   "cell_type": "markdown",
   "id": "09a9589e-5e0a-4985-8a09-b25899036513",
   "metadata": {},
   "source": [
    "##### 1.Create a 1D NumPy array from a list [1,2,3,4,5]"
   ]
  },
  {
   "cell_type": "code",
   "execution_count": 23,
   "id": "7fe4f837-b385-4169-b349-84c577093049",
   "metadata": {},
   "outputs": [
    {
     "name": "stdout",
     "output_type": "stream",
     "text": [
      "[1 2 3 4 5]\n",
      "Shape: (5,)\n",
      "Dimensions: 1\n",
      "Data type: int64\n"
     ]
    }
   ],
   "source": [
    "import numpy as np\n",
    "lst = [1,2,3,4,5]\n",
    "arr = np.array(lst)\n",
    "print(arr)\n",
    "print(\"Shape:\", arr.shape)\n",
    "print(\"Dimensions:\", arr.ndim)\n",
    "print(\"Data type:\", arr.dtype)"
   ]
  },
  {
   "cell_type": "markdown",
   "id": "c5bb9aee-2679-4cf9-b99c-f18b45ad1884",
   "metadata": {},
   "source": [
    "#### 2.Create a 2D array of zeros of shape (3,4)"
   ]
  },
  {
   "cell_type": "code",
   "execution_count": 25,
   "id": "8fc2b26b-fd35-4cfc-9191-c8a5f0917567",
   "metadata": {},
   "outputs": [
    {
     "name": "stdout",
     "output_type": "stream",
     "text": [
      "[[0. 0. 0. 0.]\n",
      " [0. 0. 0. 0.]\n",
      " [0. 0. 0. 0.]]\n",
      "Shape: (3, 4)\n",
      "Dimensions: 2\n",
      "Data type: float64\n"
     ]
    }
   ],
   "source": [
    "arr = np.zeros((3,4))\n",
    "print(arr)\n",
    "print(\"Shape:\", arr.shape)\n",
    "print(\"Dimensions:\", arr.ndim)\n",
    "print(\"Data type:\", arr.dtype)"
   ]
  },
  {
   "cell_type": "markdown",
   "id": "0088506d-7cef-449e-baa7-9f0ab1eaadbb",
   "metadata": {},
   "source": [
    "#### 3.Create a 3×3 identity matrix"
   ]
  },
  {
   "cell_type": "code",
   "execution_count": 28,
   "id": "43b261a8-6402-4a9a-b671-3301d130f475",
   "metadata": {},
   "outputs": [
    {
     "name": "stdout",
     "output_type": "stream",
     "text": [
      "[[1. 0. 0.]\n",
      " [0. 1. 0.]\n",
      " [0. 0. 1.]]\n",
      "Shape: (3, 3)\n",
      "Dimensions: 2\n",
      "Data type: float64\n"
     ]
    }
   ],
   "source": [
    "arr = np.eye(3)\n",
    "print(arr)\n",
    "print(\"Shape:\", arr.shape)\n",
    "print(\"Dimensions:\", arr.ndim)\n",
    "print(\"Data type:\", arr.dtype)"
   ]
  },
  {
   "cell_type": "markdown",
   "id": "7049ccf2-87bf-4cae-8ae2-5ce44d1fd467",
   "metadata": {},
   "source": [
    "#### 4.Create an array of even numbers between 10 and 50"
   ]
  },
  {
   "cell_type": "code",
   "execution_count": 32,
   "id": "dce43a98-44d0-45ff-9307-7dd700bea8f5",
   "metadata": {},
   "outputs": [
    {
     "name": "stdout",
     "output_type": "stream",
     "text": [
      "[10 12 14 16 18 20 22 24 26 28 30 32 34 36 38 40 42 44 46 48 50]\n",
      "Shape: (21,)\n",
      "Dimensions: 1\n",
      "Data type: int64\n"
     ]
    }
   ],
   "source": [
    "arr = np.arange(10,51,2)\n",
    "print(arr)\n",
    "print(\"Shape:\", arr.shape)\n",
    "print(\"Dimensions:\", arr.ndim)\n",
    "print(\"Data type:\", arr.dtype)"
   ]
  },
  {
   "cell_type": "markdown",
   "id": "2ca470d3-15ed-43a5-a46a-9376fec0b4b5",
   "metadata": {},
   "source": [
    "#### 5.Create an array of 10 random integers between 1–100"
   ]
  },
  {
   "cell_type": "code",
   "execution_count": 37,
   "id": "34e4bb2a-360f-425e-baee-c578117e83a0",
   "metadata": {},
   "outputs": [
    {
     "name": "stdout",
     "output_type": "stream",
     "text": [
      "Array: [ 26  93  33  24   1 100  28   7  66  44]\n",
      "Shape: (10,)\n",
      "Dimensions: 1\n",
      "Data type: int32\n"
     ]
    }
   ],
   "source": [
    "\n",
    "arr = np.random.randint(1, 101, size=10)\n",
    "print(\"Array:\", arr)\n",
    "print(\"Shape:\", arr.shape)\n",
    "print(\"Dimensions:\", arr.ndim)\n",
    "print(\"Data type:\", arr.dtype)\n"
   ]
  },
  {
   "cell_type": "markdown",
   "id": "62aae67b-6ca2-431a-bd02-ffdb59455b1c",
   "metadata": {},
   "source": [
    "## Array Info\n",
    "#### 6.Get shape, size, ndim, dtype of an array"
   ]
  },
  {
   "cell_type": "code",
   "execution_count": 39,
   "id": "547875d6-f66c-481e-b03e-27d353172edf",
   "metadata": {},
   "outputs": [
    {
     "name": "stdout",
     "output_type": "stream",
     "text": [
      "Array:\n",
      " [[10 20 30]\n",
      " [40 50 60]]\n",
      "Shape: (2, 3)\n",
      "Size: 6\n",
      "Dimensions: 2\n",
      "Data type: int64\n"
     ]
    }
   ],
   "source": [
    "import numpy as np\n",
    "\n",
    "# Create a sample 2D array\n",
    "arr = np.array([[10, 20, 30],\n",
    "                [40, 50, 60]])\n",
    "\n",
    "print(\"Array:\\n\", arr)\n",
    "print(\"Shape:\", arr.shape)\n",
    "print(\"Size:\", arr.size)\n",
    "print(\"Dimensions:\", arr.ndim)\n",
    "print(\"Data type:\", arr.dtype)\n"
   ]
  },
  {
   "cell_type": "markdown",
   "id": "2c95cb0b-82f2-458e-9f1f-9001553686c4",
   "metadata": {},
   "source": [
    "# Datatype Conversion"
   ]
  },
  {
   "cell_type": "markdown",
   "id": "3e40df7a-11ad-4718-828a-58325edd1e45",
   "metadata": {},
   "source": [
    "#### 7.Convert a float array to int"
   ]
  },
  {
   "cell_type": "code",
   "execution_count": 57,
   "id": "cebf58ed-d154-4c52-bfff-2ae415ac439c",
   "metadata": {},
   "outputs": [
    {
     "name": "stdout",
     "output_type": "stream",
     "text": [
      "Original array: [1.1 1.2 1.3]\n",
      "Converted array: [1 1 1]\n",
      "Data type before: float64\n",
      "Data type after: int64\n"
     ]
    }
   ],
   "source": [
    "arr = np.array([1.1, 1.2, 1.3])\n",
    "# Convert to integer\n",
    "int_arr = arr.astype(int)\n",
    "print(\"Original array:\", arr)\n",
    "print(\"Converted array:\", int_arr)\n",
    "print(\"Data type before:\", arr.dtype)\n",
    "print(\"Data type after:\", int_arr.dtype)"
   ]
  },
  {
   "cell_type": "markdown",
   "id": "9f2bf843-5a82-4e0d-a303-8c1d3cc13e12",
   "metadata": {},
   "source": [
    "# Indexing\n",
    "#### 8.Extract even-indexed elements from an array"
   ]
  },
  {
   "cell_type": "code",
   "execution_count": 72,
   "id": "81728bd2-c153-41cd-8c3f-94a0fe387e99",
   "metadata": {},
   "outputs": [
    {
     "name": "stdout",
     "output_type": "stream",
     "text": [
      "Advanced indexing result: [10 30 50 70]\n",
      "Slice shorthand result: [10 30 50 70]\n"
     ]
    }
   ],
   "source": [
    "# Create a sample array\n",
    "arr = np.array([10, 20, 30, 40, 50, 60, 70])\n",
    "\n",
    "# Advanced indexing\n",
    "a = np.arange(0, len(arr), 2)\n",
    "print(\"Advanced indexing result:\", arr[a])\n",
    "\n",
    "# Slice shorthand\n",
    "ind_slice = arr[::2]\n",
    "print(\"Slice shorthand result:\", ind_slice)\n"
   ]
  },
  {
   "cell_type": "markdown",
   "id": "8b0ff062-5b65-424a-8a76-202a4354b8b0",
   "metadata": {},
   "source": [
    "# Slicing\n",
    "#### 9.Reverse a 1D array using slicing"
   ]
  },
  {
   "cell_type": "code",
   "execution_count": 84,
   "id": "84693b20-8deb-4702-9010-205da08e2a01",
   "metadata": {},
   "outputs": [
    {
     "name": "stdout",
     "output_type": "stream",
     "text": [
      "Original array: [10 20 30 40 50 60 70]\n",
      "Reversed array: [70 60 50 40 30 20 10]\n",
      "Reversed array using indexing: [70 60 50 40 30 20 10]\n"
     ]
    }
   ],
   "source": [
    "# Create a sample array\n",
    "arr = np.array([10, 20, 30, 40, 50, 60, 70])\n",
    "\n",
    "# Reverse using slicing\n",
    "reversed_arr = arr[::-1]\n",
    "\n",
    "print(\"Original array:\", arr)\n",
    "print(\"Reversed array:\", reversed_arr)\n",
    "\n",
    "## Alternative using indexing (fancy indexing):\n",
    "indices = np.arange(len(arr)-1, -1, -1)\n",
    "reversed_arr2 = arr[indices]\n",
    "print(\"Reversed array using indexing:\", reversed_arr2)\n"
   ]
  },
  {
   "cell_type": "markdown",
   "id": "2f31558d-7388-4a19-b809-5f7960e904d9",
   "metadata": {},
   "source": [
    "# Indexing\n",
    "#### 10.Get the 2nd column from a 2D array"
   ]
  },
  {
   "cell_type": "code",
   "execution_count": 103,
   "id": "9e3734b6-140e-45c1-b015-3ed3e5813d26",
   "metadata": {},
   "outputs": [
    {
     "name": "stdout",
     "output_type": "stream",
     "text": [
      "Original 2D Array:\n",
      " [[10 20 30]\n",
      " [40 50 60]\n",
      " [70 80 90]]\n",
      "2nd Column: [20 50 80]\n"
     ]
    }
   ],
   "source": [
    "# Create a 2D array\n",
    "arr = np.array([[10, 20, 30],\n",
    "                [40, 50, 60],\n",
    "                [70, 80, 90]])\n",
    "\n",
    "# Get the 2nd column (index 1) [row index, col index]\n",
    "second_column = arr[:, 1]\n",
    "\n",
    "print(\"Original 2D Array:\\n\", arr)\n",
    "print(\"2nd Column:\", second_column)\n"
   ]
  },
  {
   "cell_type": "markdown",
   "id": "f0d9e844-d293-4433-9cfe-321edb1cc254",
   "metadata": {},
   "source": [
    "# Indexing\n",
    "#### 11.Replace all odd numbers with -1"
   ]
  },
  {
   "cell_type": "code",
   "execution_count": 114,
   "id": "7966f250-bb01-4e07-8bf5-f1dac8fa9f4c",
   "metadata": {},
   "outputs": [
    {
     "name": "stdout",
     "output_type": "stream",
     "text": [
      "[12 -1 54  6 -1]\n"
     ]
    }
   ],
   "source": [
    "arr = np.array([12,3,54,6,7])\n",
    "arr[arr%2!=0] = -1\n",
    "print(arr)"
   ]
  },
  {
   "cell_type": "markdown",
   "id": "cdeac828-2152-4ad8-9d64-1d8f7b9756ac",
   "metadata": {},
   "source": [
    "# Conditional Selection\n",
    "#### 12.Extract all elements > mean"
   ]
  },
  {
   "cell_type": "code",
   "execution_count": 125,
   "id": "cf2f5fdb-10fd-4488-a776-d3a375bb0332",
   "metadata": {},
   "outputs": [
    {
     "name": "stdout",
     "output_type": "stream",
     "text": [
      "Original array: [10 20 30 40 50]\n",
      "Mean: 30.0\n",
      "Elements greater than mean: [40 50]\n"
     ]
    }
   ],
   "source": [
    "import numpy as np\n",
    "\n",
    "# Create a sample array\n",
    "arr = np.array([10, 20, 30, 40, 50])\n",
    "\n",
    "# Compute mean\n",
    "mean = np.mean(arr)\n",
    "\n",
    "# Extract elements greater than mean\n",
    "greater_than_mean = arr[arr>mean]\n",
    "\n",
    "print(\"Original array:\", arr)\n",
    "print(\"Mean:\", mean)\n",
    "print(\"Elements greater than mean:\", greater_than_mean)\n"
   ]
  },
  {
   "cell_type": "markdown",
   "id": "e20a86d1-d9d0-45a5-a9e0-5c1ffe3e2e29",
   "metadata": {},
   "source": [
    "# Masking\n",
    "#### 13.Replace all NaNs with 0 in an array"
   ]
  },
  {
   "cell_type": "code",
   "execution_count": 161,
   "id": "4d88e87e-8bcf-45a5-b85a-721f63047d21",
   "metadata": {},
   "outputs": [
    {
     "name": "stdout",
     "output_type": "stream",
     "text": [
      "Updated array: [1. 0. 3. 0. 5.]\n"
     ]
    }
   ],
   "source": [
    "import numpy as np\n",
    "\n",
    "# Create an array with NaN values\n",
    "arr = np.array([1, np.nan, 3, np.nan, 5])\n",
    "\n",
    "# Replace all NaNs with 0\n",
    "arr[np.isnan(arr)] = 0\n",
    "\n",
    "print(\"Updated array:\", arr)\n"
   ]
  },
  {
   "cell_type": "markdown",
   "id": "41c601a1-91e1-48ba-8347-2050135ab58a",
   "metadata": {},
   "source": [
    "# Stack\n",
    "#### 14. Stack two arrays vertically and horizontally"
   ]
  },
  {
   "cell_type": "code",
   "execution_count": 163,
   "id": "875ee610-f4a3-476f-8c63-c40e18199c16",
   "metadata": {},
   "outputs": [
    {
     "name": "stdout",
     "output_type": "stream",
     "text": [
      "[[1 2 3]\n",
      " [4 5 6]]\n",
      "[1 2 3 4 5 6]\n"
     ]
    }
   ],
   "source": [
    "a = np.array([1,2,3])\n",
    "b = np.array([4,5,6])\n",
    "vertical = np.vstack((a,b))\n",
    "horizontal = np.hstack((a,b))\n",
    "print(vertical)\n",
    "print(horizontal)\n"
   ]
  },
  {
   "cell_type": "markdown",
   "id": "674aa67c-560d-4d75-af32-eb3d0abc3114",
   "metadata": {},
   "source": [
    "# Reshape\n",
    "#### 15. Reshape a 1D array of 12 elements into 3×4"
   ]
  },
  {
   "cell_type": "code",
   "execution_count": 171,
   "id": "24ebe581-495f-43f7-9a9e-f39f1ab98aed",
   "metadata": {},
   "outputs": [
    {
     "name": "stdout",
     "output_type": "stream",
     "text": [
      "[[ 0  1  2  3]\n",
      " [ 4  5  6  7]\n",
      " [ 8  9 10 11]]\n"
     ]
    }
   ],
   "source": [
    "arr = np.arange(12)\n",
    "reshaped = arr.reshape(3,4)\n",
    "print(reshaped)"
   ]
  },
  {
   "cell_type": "markdown",
   "id": "ecdc2640-fc04-4133-a34b-6ea821c2aa34",
   "metadata": {},
   "source": [
    "# Flatten\n",
    "#### 16. Convert a 2D array into a 1D array"
   ]
  },
  {
   "cell_type": "code",
   "execution_count": 173,
   "id": "45f82101-ee4f-4e55-8b17-962c5d67b6bb",
   "metadata": {},
   "outputs": [
    {
     "name": "stdout",
     "output_type": "stream",
     "text": [
      "[1 2 3 4 5 6]\n"
     ]
    }
   ],
   "source": [
    "arr2d = np.array([[1,2,3],[4,5,6]])\n",
    "flattened = arr2d.flatten()\n",
    "print(flattened)\n"
   ]
  },
  {
   "cell_type": "markdown",
   "id": "a07de5fd-78a2-4451-a604-290c742994a4",
   "metadata": {},
   "source": [
    "# Join\n",
    "#### 17. Join two 1D arrays end to end"
   ]
  },
  {
   "cell_type": "code",
   "execution_count": 177,
   "id": "ca2f837d-8e4c-4c58-9794-acd2edeacd44",
   "metadata": {},
   "outputs": [
    {
     "name": "stdout",
     "output_type": "stream",
     "text": [
      "[1 2 3 4 5 6]\n"
     ]
    }
   ],
   "source": [
    "a = np.array([1,2,3])\n",
    "b = np.array([4,5,6])\n",
    "joined = np.concatenate((a,b))\n",
    "print(joined)\n"
   ]
  },
  {
   "cell_type": "markdown",
   "id": "cba7377e-0b12-4bf3-8dce-e0a1454d726d",
   "metadata": {},
   "source": [
    "# Split\n",
    "#### 18. Split an array into 3 equal parts"
   ]
  },
  {
   "cell_type": "code",
   "execution_count": 178,
   "id": "05e92d59-16c3-4e0a-91a2-18e508509e3a",
   "metadata": {},
   "outputs": [
    {
     "name": "stdout",
     "output_type": "stream",
     "text": [
      "[array([0, 1, 2]), array([3, 4, 5]), array([6, 7, 8])]\n"
     ]
    }
   ],
   "source": [
    "arr = np.arange(9)\n",
    "splits = np.array_split(arr, 3)\n",
    "print(splits)"
   ]
  },
  {
   "cell_type": "markdown",
   "id": "fccb7585-a361-4455-baca-617d0074acc1",
   "metadata": {},
   "source": [
    "# Sorting\n",
    "#### 19. Sort an array in ascending and descending order"
   ]
  },
  {
   "cell_type": "code",
   "execution_count": 179,
   "id": "9ba9b8d7-0556-41f4-918d-c76c75dbd466",
   "metadata": {},
   "outputs": [
    {
     "name": "stdout",
     "output_type": "stream",
     "text": [
      "[1 2 5 9]\n",
      "[9 5 2 1]\n"
     ]
    }
   ],
   "source": [
    "arr = np.array([5,2,9,1])\n",
    "asc = np.sort(arr)\n",
    "desc = np.sort(arr)[::-1]\n",
    "print(asc)\n",
    "print(desc)\n"
   ]
  },
  {
   "cell_type": "markdown",
   "id": "e24ca8f3-703f-4697-a348-11762736d2f1",
   "metadata": {},
   "source": [
    "# Searching\n",
    "#### 20. Find index of max and min element"
   ]
  },
  {
   "cell_type": "code",
   "execution_count": 182,
   "id": "dde0aca5-5670-4771-ad70-e906fe696c19",
   "metadata": {},
   "outputs": [
    {
     "name": "stdout",
     "output_type": "stream",
     "text": [
      "2\n",
      "3\n"
     ]
    }
   ],
   "source": [
    "arr = np.array([5,2,9,1])\n",
    "print(np.argmax(arr))\n",
    "print(np.argmin(arr))"
   ]
  },
  {
   "cell_type": "markdown",
   "id": "7e63ed39-8f29-4d95-a374-f579fe47c084",
   "metadata": {},
   "source": [
    "# Random\n",
    "#### 21. Create an array of random floats between 0 and 1"
   ]
  },
  {
   "cell_type": "code",
   "execution_count": 189,
   "id": "0101d5c4-d7f7-498b-a795-7ab312ffce2b",
   "metadata": {},
   "outputs": [
    {
     "name": "stdout",
     "output_type": "stream",
     "text": [
      "[0.49339828 0.28882816 0.98405967 0.05068946 0.73774936]\n"
     ]
    }
   ],
   "source": [
    "rand_floats = np.random.rand(5)\n",
    "print(rand_floats)"
   ]
  },
  {
   "cell_type": "code",
   "execution_count": null,
   "id": "241f8fe2-f05f-495e-83ba-c1eb390429fc",
   "metadata": {},
   "outputs": [],
   "source": [
    "#### 22. Compute sum, mean, std, var, and median"
   ]
  }
 ],
 "metadata": {
  "kernelspec": {
   "display_name": "Python 3 (ipykernel)",
   "language": "python",
   "name": "python3"
  },
  "language_info": {
   "codemirror_mode": {
    "name": "ipython",
    "version": 3
   },
   "file_extension": ".py",
   "mimetype": "text/x-python",
   "name": "python",
   "nbconvert_exporter": "python",
   "pygments_lexer": "ipython3",
   "version": "3.14.0"
  }
 },
 "nbformat": 4,
 "nbformat_minor": 5
}
