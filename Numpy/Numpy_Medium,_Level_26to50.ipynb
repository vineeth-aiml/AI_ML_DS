{
 "cells": [
  {
   "cell_type": "markdown",
   "id": "7b126599-017f-403f-916d-77ff15f7553a",
   "metadata": {},
   "source": [
    "# Numpy Medium Level 25 quetions based on  midlevel topics"
   ]
  },
  {
   "cell_type": "markdown",
   "id": "f41280e8-c6a5-4856-938d-44dc6a9d444e",
   "metadata": {},
   "source": [
    "| #  | Topic          | Problem                                                 |\n",
    "| -- | -------------- | ------------------------------------------------------- |\n",
    "| 26 | Conditional    | Replace negative numbers with their absolute value      |\n",
    "| 27 | Normalization  | Normalize array values between 0 and 1                  |\n",
    "| 28 | Broadcasting   | Subtract each column mean from the matrix               |\n",
    "| 29 | Statistics     | Compute row-wise mean and std deviation                 |\n",
    "| 30 | Aggregation    | Sum along rows and columns separately                   |\n",
    "| 31 | Unique         | Find unique elements and their counts                   |\n",
    "| 32 | Cumulative     | Compute cumulative sum and product                      |\n",
    "| 33 | Correlation    | Find correlation coefficient between two arrays         |\n",
    "| 34 | Linear Algebra | Compute matrix multiplication using `@` and `dot()`     |\n",
    "| 35 | Linear Algebra | Compute determinant and inverse of a matrix             |\n",
    "| 36 | Linear Algebra | Verify that `A @ inv(A)` = Identity matrix              |\n",
    "| 37 | Linear Algebra | Solve linear system `Ax = b`                            |\n",
    "| 38 | Random         | Create reproducible random numbers using seed           |\n",
    "| 39 | Random         | Generate normal distribution (mean=0, std=1, size=1000) |\n",
    "| 40 | Random         | Simulate 10 dice rolls (1–6) and count frequencies      |\n",
    "| 41 | Vectorization  | Replace all loops with NumPy vectorized ops             |\n",
    "| 42 | Broadcasting   | Add 1D array to 2D using broadcasting rules             |\n",
    "| 43 | Distance       | Compute Euclidean distance between two vectors          |\n",
    "| 44 | Angle          | Compute cosine similarity between two vectors           |\n",
    "| 45 | Reshape        | Create 3D array and reshape it to 2D                    |\n",
    "| 46 | Axis Ops       | Find index of max per row and per column                |\n",
    "| 47 | Replace        | Replace all NaN values with column mean                 |\n",
    "| 48 | Insert         | Insert a new column into a 2D array                     |\n",
    "| 49 | Split & Merge  | Split an array vertically and then merge back           |\n",
    "| 50 | Logic          | Check if any element > 100 or all elements > 0          |\n"
   ]
  },
  {
   "cell_type": "markdown",
   "id": "9d17511f-1d1b-4156-8414-d02264987c50",
   "metadata": {},
   "source": [
    "# Conditional Absolute values\n",
    "#### 26. Replace negative numbers with their absolute value"
   ]
  },
  {
   "cell_type": "code",
   "execution_count": 1,
   "id": "26ea7aa5-77ce-4f1e-a0e0-d4d49afaee40",
   "metadata": {},
   "outputs": [
    {
     "name": "stdout",
     "output_type": "stream",
     "text": [
      "[1 2 3 4]\n"
     ]
    }
   ],
   "source": [
    "import numpy as np\n",
    "arr = np.array([-1, 2, -3, 4])\n",
    "arr = np.abs(arr)\n",
    "print(arr)"
   ]
  },
  {
   "cell_type": "markdown",
   "id": "940ba5a1-7ad3-4c87-a545-aeea8296e36b",
   "metadata": {},
   "source": [
    "# Normalize\n",
    "#### 27. Normalize array values between 0 and 1"
   ]
  },
  {
   "cell_type": "code",
   "execution_count": 2,
   "id": "b345f4dc-65c5-435a-a856-36d26324fd4c",
   "metadata": {},
   "outputs": [
    {
     "name": "stdout",
     "output_type": "stream",
     "text": [
      "[0.  0.5 1. ]\n"
     ]
    }
   ],
   "source": [
    "arr = np.array([10, 20, 30])\n",
    "normalized = (arr - arr.min()) / (arr.max() - arr.min())\n",
    "print(normalized)\n"
   ]
  },
  {
   "cell_type": "markdown",
   "id": "5abca491-deab-4fb1-b771-744332e046bf",
   "metadata": {},
   "source": [
    "# Broadcasting\n",
    "#### 28. Subtract each column mean from the matrix"
   ]
  },
  {
   "cell_type": "code",
   "execution_count": 3,
   "id": "11fc1339-a640-40c9-b0ae-1213c2e2eb72",
   "metadata": {},
   "outputs": [
    {
     "name": "stdout",
     "output_type": "stream",
     "text": [
      "mean  [3. 4.]\n",
      "Subtract each column with mean\n",
      " [[-2. -2.]\n",
      " [ 0.  0.]\n",
      " [ 2.  2.]]\n"
     ]
    }
   ],
   "source": [
    "mat = np.array([[1,2],[3,4],[5,6]])\n",
    "col_mean = mat.mean(axis=0)\n",
    "print(\"mean \",col_mean)\n",
    "result = mat - col_mean\n",
    "print(\"Subtract each column with mean\\n\",result)"
   ]
  },
  {
   "cell_type": "markdown",
   "id": "0ee763e5-9880-4fc2-a31c-34cc8ef26e23",
   "metadata": {},
   "source": [
    "# Statistics\n",
    "#### 29. Compute row-wise mean and std deviation"
   ]
  },
  {
   "cell_type": "code",
   "execution_count": 4,
   "id": "3f389445-c66d-42e3-9af8-574d15417671",
   "metadata": {},
   "outputs": [
    {
     "name": "stdout",
     "output_type": "stream",
     "text": [
      "[2. 5.] [0.81649658 0.81649658]\n"
     ]
    }
   ],
   "source": [
    "mat = np.array([[1,2,3],[4,5,6]])\n",
    "row_mean = mat.mean(axis=1)\n",
    "row_std = mat.std(axis=1)\n",
    "print(row_mean, row_std)"
   ]
  },
  {
   "cell_type": "markdown",
   "id": "34be8e3e-f744-40ec-b2e4-27aa52dd7b83",
   "metadata": {},
   "source": [
    "# Aggregation\n",
    "#### 30. Sum along rows and columns separately"
   ]
  },
  {
   "cell_type": "code",
   "execution_count": 5,
   "id": "b15078a2-bab5-482b-b151-726dec37ac0e",
   "metadata": {},
   "outputs": [
    {
     "name": "stdout",
     "output_type": "stream",
     "text": [
      "[ 6 15] [5 7 9]\n"
     ]
    }
   ],
   "source": [
    "mat = np.array([[1,2,3],[4,5,6]])\n",
    "row_sum = mat.sum(axis=1)\n",
    "col_sum = mat.sum(axis=0)\n",
    "print(row_sum, col_sum)\n"
   ]
  },
  {
   "cell_type": "markdown",
   "id": "4f905540-60aa-4eaf-8198-581d594e9e2f",
   "metadata": {},
   "source": [
    "# Unique\n",
    "#### 31. Find unique elements and their counts"
   ]
  },
  {
   "cell_type": "code",
   "execution_count": 6,
   "id": "b8a418ad-4d28-4862-9676-83cbf5090f70",
   "metadata": {},
   "outputs": [
    {
     "name": "stdout",
     "output_type": "stream",
     "text": [
      "[1 2 3] [1 2 2]\n"
     ]
    }
   ],
   "source": [
    "arr = np.array([1,2,2,3,3])\n",
    "unique, counts = np.unique(arr, return_counts=True)\n",
    "print(unique, counts)"
   ]
  },
  {
   "cell_type": "markdown",
   "id": "065c71db-af38-4d33-934d-a9ef33af0541",
   "metadata": {},
   "source": [
    "# Cumulative\n",
    "#### 2. Compute cumulative sum and product"
   ]
  },
  {
   "cell_type": "code",
   "execution_count": 7,
   "id": "02411770-19b2-49b2-b823-8df97376947f",
   "metadata": {},
   "outputs": [
    {
     "name": "stdout",
     "output_type": "stream",
     "text": [
      "[ 1  3  6 10] [ 1  2  6 24]\n"
     ]
    }
   ],
   "source": [
    "arr = np.array([1,2,3,4])\n",
    "cumsum = np.cumsum(arr)\n",
    "cumprod = np.cumprod(arr)\n",
    "print(cumsum, cumprod)"
   ]
  },
  {
   "cell_type": "markdown",
   "id": "d629eea0-95a8-452c-ad62-495a70fbe7b8",
   "metadata": {},
   "source": [
    "# Correlation\n",
    "#### 33. Find correlation coefficient between two arrays"
   ]
  },
  {
   "cell_type": "code",
   "execution_count": 8,
   "id": "25e1965a-28c8-4b80-afd6-6e23d2b7de6a",
   "metadata": {},
   "outputs": [
    {
     "name": "stdout",
     "output_type": "stream",
     "text": [
      "1.0\n"
     ]
    }
   ],
   "source": [
    "a = np.array([1,2,3])\n",
    "b = np.array([4,5,6])\n",
    "corr = np.corrcoef(a, b)[0,1]\n",
    "print(corr)\n"
   ]
  },
  {
   "cell_type": "markdown",
   "id": "2f329916-21f9-4c2d-aaf7-84dd8bb06085",
   "metadata": {},
   "source": [
    "# Linear Algebra\n",
    "#### 34. Compute matrix multiplication using @ and dot()"
   ]
  },
  {
   "cell_type": "code",
   "execution_count": 9,
   "id": "f06a4467-f1a1-4a32-aa1d-099291422032",
   "metadata": {},
   "outputs": [
    {
     "name": "stdout",
     "output_type": "stream",
     "text": [
      "[[19 22]\n",
      " [43 50]]\n",
      "[[19 22]\n",
      " [43 50]]\n"
     ]
    }
   ],
   "source": [
    "A = np.array([[1,2],[3,4]])\n",
    "B = np.array([[5,6],[7,8]])\n",
    "print(A @ B)\n",
    "print(A.dot(B))"
   ]
  },
  {
   "cell_type": "markdown",
   "id": "05bf9c50-aec5-4e2e-88b2-b1771d59412a",
   "metadata": {},
   "source": [
    "#### 35. Compute determinant and inverse of a matrix"
   ]
  },
  {
   "cell_type": "code",
   "execution_count": 10,
   "id": "42c6f2c2-d514-445e-8b82-ecedda8df642",
   "metadata": {},
   "outputs": [
    {
     "name": "stdout",
     "output_type": "stream",
     "text": [
      "-2.0000000000000004\n",
      "[[-2.   1. ]\n",
      " [ 1.5 -0.5]]\n"
     ]
    }
   ],
   "source": [
    "A = np.array([[1,2],[3,4]])\n",
    "det = np.linalg.det(A)\n",
    "inv = np.linalg.inv(A)\n",
    "print(det) \n",
    "print(inv)\n"
   ]
  },
  {
   "cell_type": "markdown",
   "id": "e2a5d518-8698-410c-9760-9cfd1aba0ec2",
   "metadata": {},
   "source": [
    "#### 36. Verify that A @ inv(A) = Identity matrix"
   ]
  },
  {
   "cell_type": "code",
   "execution_count": 11,
   "id": "883c3385-15d6-4678-8119-854d386215c9",
   "metadata": {},
   "outputs": [
    {
     "name": "stdout",
     "output_type": "stream",
     "text": [
      "[[1. 0.]\n",
      " [0. 1.]]\n"
     ]
    }
   ],
   "source": [
    "A = np.array([[1,2],[3,4]])\n",
    "inv = np.linalg.inv(A)\n",
    "identity = np.round(A @ inv, decimals=10)\n",
    "print(identity)\n"
   ]
  },
  {
   "cell_type": "markdown",
   "id": "21c2aeb7-726a-473b-b74d-9352b78b5fb6",
   "metadata": {},
   "source": [
    "#### 37. Solve linear system Ax = b"
   ]
  },
  {
   "cell_type": "code",
   "execution_count": 12,
   "id": "7a89d324-a361-4362-bd93-b39538362f13",
   "metadata": {},
   "outputs": [
    {
     "name": "stdout",
     "output_type": "stream",
     "text": [
      "[2. 3.]\n"
     ]
    }
   ],
   "source": [
    "A = np.array([[3,1],[1,2]])\n",
    "b = np.array([9,8])\n",
    "x = np.linalg.solve(A, b)\n",
    "print(x)\n"
   ]
  },
  {
   "cell_type": "markdown",
   "id": "96a73751-0fcb-46ee-8af2-a0c112b51996",
   "metadata": {},
   "source": [
    "# Random\n",
    "#### 38. Create reproducible random numbers using seed"
   ]
  },
  {
   "cell_type": "code",
   "execution_count": 13,
   "id": "261a703a-b502-49ce-bbaf-9583a9630831",
   "metadata": {},
   "outputs": [
    {
     "name": "stdout",
     "output_type": "stream",
     "text": [
      "[0.37454012 0.95071431 0.73199394 0.59865848 0.15601864]\n"
     ]
    }
   ],
   "source": [
    "np.random.seed(42) ## same random nums will reproduce every execution\n",
    "rand_nums = np.random.rand(5)\n",
    "print(rand_nums)"
   ]
  },
  {
   "cell_type": "markdown",
   "id": "467d2adf-ccac-4def-b948-597d4b1f9e7a",
   "metadata": {},
   "source": [
    "#### 39. Generate normal distribution (mean=0, std=1, size=1000)"
   ]
  },
  {
   "cell_type": "code",
   "execution_count": 14,
   "id": "9a7cc467-5acc-4f0a-8ae0-a638e07c1a65",
   "metadata": {},
   "outputs": [
    {
     "name": "stdout",
     "output_type": "stream",
     "text": [
      "[ 0.27904129  1.01051528 -0.58087813 -0.52516981 -0.57138017 -0.92408284\n",
      " -2.61254901  0.95036968  0.81644508 -1.523876  ]\n"
     ]
    }
   ],
   "source": [
    "norm_dist = np.random.normal(0, 1, 1000) # mean is 0 and 1 is std and size is 1000 elements to generate normal dist\n",
    "print(norm_dist[:10])  # first 10 values"
   ]
  },
  {
   "cell_type": "markdown",
   "id": "23f2d662-5571-4070-ad68-acd3744292bb",
   "metadata": {},
   "source": [
    "#### 40. Simulate 10 dice rolls (1–6) and count frequencies"
   ]
  },
  {
   "cell_type": "code",
   "execution_count": 15,
   "id": "037dd84c-e036-46a5-8e6a-1cd5c5fba2cf",
   "metadata": {},
   "outputs": [
    {
     "name": "stdout",
     "output_type": "stream",
     "text": [
      "Rolls: [2 6 3 2 6 4 4 5 1 5]\n",
      "Counts: {1: 1, 2: 2, 3: 1, 4: 2, 5: 2, 6: 2}\n"
     ]
    }
   ],
   "source": [
    "import numpy as np\n",
    "\n",
    "# Simulate dice rolls\n",
    "rolls = np.random.randint(1, 7, 10)\n",
    "\n",
    "# Count occurrences\n",
    "unique, counts = np.unique(rolls, return_counts=True)\n",
    "\n",
    "# Convert to plain int dictionary for readability\n",
    "counts_dict = {int(u): int(c) for u, c in zip(unique, counts)}\n",
    "\n",
    "print(\"Rolls:\", rolls)\n",
    "print(\"Counts:\", counts_dict)\n"
   ]
  },
  {
   "cell_type": "markdown",
   "id": "2d03d019-e346-4ebd-a5ca-09f8301ad171",
   "metadata": {},
   "source": [
    "# Vectorization\n",
    "#### 41. Replace all loops with NumPy vectorized ops"
   ]
  },
  {
   "cell_type": "code",
   "execution_count": 16,
   "id": "f57e23c1-f264-42aa-a9f5-324357b9ca86",
   "metadata": {},
   "outputs": [
    {
     "name": "stdout",
     "output_type": "stream",
     "text": [
      "[3 4 5]\n"
     ]
    }
   ],
   "source": [
    "# Example: add 2 to each element\n",
    "arr = np.array([1,2,3])\n",
    "arr = arr + 2\n",
    "print(arr)"
   ]
  },
  {
   "cell_type": "markdown",
   "id": "7b2e711e-5d33-4894-b84a-67499310e914",
   "metadata": {},
   "source": [
    "# broadcasting rules \n",
    "#### 42. Add 1D array to 2D using broadcasting rules"
   ]
  },
  {
   "cell_type": "code",
   "execution_count": 17,
   "id": "714c3ad1-7638-4f33-9757-0ba515c13d4b",
   "metadata": {},
   "outputs": [
    {
     "name": "stdout",
     "output_type": "stream",
     "text": [
      "[[11 22 33]\n",
      " [14 25 36]]\n"
     ]
    }
   ],
   "source": [
    "mat = np.array([[1,2,3],[4,5,6]])   # (2,3)\n",
    "arr = np.array([10,20,30])  # (3,)  -> (1,3)\n",
    "result = mat + arr   \n",
    "print(result)"
   ]
  },
  {
   "cell_type": "markdown",
   "id": "9c1fc54a-9234-4f9b-b4c3-8517774d8ba4",
   "metadata": {},
   "source": [
    "# Distance\n",
    "#### 43. Compute Euclidean distance between two vectors"
   ]
  },
  {
   "cell_type": "code",
   "execution_count": 18,
   "id": "a575a55e-caea-4158-88bc-0912ac5fe4aa",
   "metadata": {},
   "outputs": [
    {
     "name": "stdout",
     "output_type": "stream",
     "text": [
      "5.196152422706632\n"
     ]
    }
   ],
   "source": [
    "a = np.array([1,2,3])\n",
    "b = np.array([4,5,6])\n",
    "dist = np.linalg.norm(a - b)\n",
    "print(dist)"
   ]
  },
  {
   "cell_type": "markdown",
   "id": "d9aa32ec-649d-4d91-9dd7-76e82ac438e2",
   "metadata": {},
   "source": [
    "# Angle\n",
    "#### 44. Compute cosine similarity between two vectors"
   ]
  },
  {
   "cell_type": "code",
   "execution_count": 19,
   "id": "3642c25e-5eca-49ed-b728-2e65155690d7",
   "metadata": {},
   "outputs": [
    {
     "name": "stdout",
     "output_type": "stream",
     "text": [
      "0.9746318461970762\n"
     ]
    }
   ],
   "source": [
    "\n",
    "a = np.array([1,2,3])\n",
    "b = np.array([4,5,6])\n",
    "cos_sim = np.dot(a,b) / (np.linalg.norm(a)*np.linalg.norm(b))\n",
    "print(cos_sim)"
   ]
  },
  {
   "cell_type": "markdown",
   "id": "0a3cb4ee-d4f2-436b-acdb-2160da2f83b9",
   "metadata": {},
   "source": [
    "# Reshape\n",
    "#### 45. Create 3D array and reshape it to 2D"
   ]
  },
  {
   "cell_type": "code",
   "execution_count": 20,
   "id": "e26f0f12-cfa4-4fd0-b1b5-78de5514fee9",
   "metadata": {},
   "outputs": [
    {
     "name": "stdout",
     "output_type": "stream",
     "text": [
      "[[ 0  1  2  3  4  5  6  7  8  9 10 11]\n",
      " [12 13 14 15 16 17 18 19 20 21 22 23]]\n"
     ]
    }
   ],
   "source": [
    "\n",
    "arr3d = np.arange(24).reshape(2,3,4)\n",
    "arr2d = arr3d.reshape(2,12)\n",
    "print(arr2d)\n"
   ]
  },
  {
   "cell_type": "markdown",
   "id": "44b3ace7-e61f-4bda-bf41-4c3cd5e8a249",
   "metadata": {},
   "source": [
    "# Axis Ops \n",
    "#### 46. Find index of max per row and per column"
   ]
  },
  {
   "cell_type": "code",
   "execution_count": 21,
   "id": "8411ffd4-1929-464d-9a2e-d07f1ba30ba6",
   "metadata": {},
   "outputs": [
    {
     "name": "stdout",
     "output_type": "stream",
     "text": [
      "[1 0] [1 0 1]\n"
     ]
    }
   ],
   "source": [
    "\n",
    "mat = np.array([[1,4,2],[5,0,3]])\n",
    "row_max_idx = np.argmax(mat, axis=1)\n",
    "col_max_idx = np.argmax(mat, axis=0)\n",
    "print(row_max_idx, col_max_idx)\n"
   ]
  },
  {
   "cell_type": "markdown",
   "id": "ba965da2-e1eb-4e35-a285-30a87ed3e353",
   "metadata": {},
   "source": [
    "# Mean\n",
    "#### 47. Replace all NaN values with column mean"
   ]
  },
  {
   "cell_type": "code",
   "execution_count": 22,
   "id": "ee33a832-56a6-4c50-9e04-6894037721cd",
   "metadata": {},
   "outputs": [
    {
     "name": "stdout",
     "output_type": "stream",
     "text": [
      "[[1. 4.]\n",
      " [3. 4.]]\n"
     ]
    }
   ],
   "source": [
    "\n",
    "mat = np.array([[1, np.nan],[3, 4]])\n",
    "col_mean = np.nanmean(mat, axis=0)\n",
    "inds = np.where(np.isnan(mat))\n",
    "mat[inds] = np.take(col_mean, inds[1])\n",
    "print(mat)"
   ]
  },
  {
   "cell_type": "markdown",
   "id": "c0153ef4-2cc3-458d-9b44-5e28db98aa49",
   "metadata": {},
   "source": [
    "# New col Insert\n",
    "#### 48. Insert a new column into a 2D array"
   ]
  },
  {
   "cell_type": "code",
   "execution_count": 23,
   "id": "42a034d6-5b2c-435a-9bd4-ec196ebad0a7",
   "metadata": {},
   "outputs": [
    {
     "name": "stdout",
     "output_type": "stream",
     "text": [
      "[[ 1  2  9]\n",
      " [ 3  4 10]]\n"
     ]
    }
   ],
   "source": [
    "\n",
    "mat = np.array([[1,2],[3,4]])\n",
    "new_col = np.array([[9],[10]])\n",
    "mat_new = np.hstack((mat, new_col))\n",
    "print(mat_new)\n"
   ]
  },
  {
   "cell_type": "markdown",
   "id": "13323f89-6b8e-42ab-916c-606e788b0508",
   "metadata": {},
   "source": [
    "# Split & Merge\n",
    "#### 49. Split an array vertically and then merge back"
   ]
  },
  {
   "cell_type": "code",
   "execution_count": 24,
   "id": "ad24abc5-5694-43c9-8a5b-5b424773f01d",
   "metadata": {},
   "outputs": [
    {
     "name": "stdout",
     "output_type": "stream",
     "text": [
      "[[ 0  1  2  3]\n",
      " [ 4  5  6  7]\n",
      " [ 8  9 10 11]\n",
      " [12 13 14 15]]\n"
     ]
    }
   ],
   "source": [
    "\n",
    "mat = np.arange(16).reshape(4,4)\n",
    "split = np.vsplit(mat, 2)\n",
    "merged = np.vstack(split)\n",
    "print(merged)\n"
   ]
  },
  {
   "cell_type": "markdown",
   "id": "f2748d51-9988-4b47-adaf-1c59088b08d7",
   "metadata": {},
   "source": [
    "# Logic\n",
    "#### 50. Check if any element > 100 or all elements > 0"
   ]
  },
  {
   "cell_type": "code",
   "execution_count": 25,
   "id": "a4e32647-db3b-49e7-9c97-b08a6a567bb1",
   "metadata": {},
   "outputs": [
    {
     "name": "stdout",
     "output_type": "stream",
     "text": [
      "False True\n"
     ]
    }
   ],
   "source": [
    "\n",
    "arr = np.array([10,20,30])\n",
    "any_gt_100 = np.any(arr > 100)\n",
    "all_gt_0 = np.all(arr > 0)\n",
    "print(any_gt_100, all_gt_0)"
   ]
  },
  {
   "cell_type": "code",
   "execution_count": null,
   "id": "969d8211-e194-4b83-b7bf-8918e31d1c13",
   "metadata": {},
   "outputs": [],
   "source": []
  }
 ],
 "metadata": {
  "kernelspec": {
   "display_name": "Python 3 (ipykernel)",
   "language": "python",
   "name": "python3"
  },
  "language_info": {
   "codemirror_mode": {
    "name": "ipython",
    "version": 3
   },
   "file_extension": ".py",
   "mimetype": "text/x-python",
   "name": "python",
   "nbconvert_exporter": "python",
   "pygments_lexer": "ipython3",
   "version": "3.14.0"
  }
 },
 "nbformat": 4,
 "nbformat_minor": 5
}
