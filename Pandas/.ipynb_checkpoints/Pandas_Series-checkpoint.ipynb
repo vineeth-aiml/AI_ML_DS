{
 "cells": [
  {
   "cell_type": "markdown",
   "id": "1424343c-f760-4f72-8b3f-eec6bff68e8f",
   "metadata": {},
   "source": [
    "## 🐼 PANDAS COMPLETE COURSE (2025 EDITION)\n"
   ]
  },
  {
   "cell_type": "markdown",
   "id": "17c1a0fb-f435-426e-aacc-dc936991454b",
   "metadata": {},
   "source": [
    "## 1️⃣ Introduction to Pandas\n",
    "🐍 What is Pandas?\n",
    "\n",
    "Pandas (short for Panel Data) is a Python library built on top of NumPy, designed for:\n",
    "\n",
    "Data manipulation (cleaning, transforming, reshaping)\n",
    "\n",
    "Data analysis (aggregating, grouping, summarizing)\n",
    "\n",
    "Data visualization (basic charts and exploration)\n",
    "\n",
    "Integration with many formats — CSV, Excel, SQL, JSON, etc.\n",
    "\n",
    "It provides fast, flexible, and expressive data structures to work with labeled and relational data (like a spreadsheet or SQL table).\n",
    "\n",
    "👉 In short:\n",
    "\n",
    "Pandas = NumPy + SQL + Excel (combined, but in Python syntax)"
   ]
  },
  {
   "cell_type": "markdown",
   "id": "2263a845-00a6-42bc-b06a-dcd539a54821",
   "metadata": {},
   "source": [
    "### 🧠 Why Use Pandas?\n",
    "🔹 Before Pandas:\n",
    "\n",
    "Working with raw Python lists, dictionaries, or NumPy arrays for data analysis was hard because:\n",
    "\n",
    "You needed loops for simple operations.\n",
    "\n",
    "Data often came from CSVs or databases — not easy to clean manually.\n",
    "\n",
    "NumPy arrays don’t store labels (column names / indices).\n",
    "\n",
    "🔹 With Pandas:\n",
    "\n",
    "Data is organized like a table with rows and columns.\n",
    "\n",
    "You can easily filter, aggregate, merge, clean, and transform data.\n",
    "\n",
    "Pandas is optimized in C for performance."
   ]
  },
  {
   "cell_type": "markdown",
   "id": "18bd47b7-9d9f-479c-97da-11a05825b2b2",
   "metadata": {},
   "source": [
    "| Feature               | Python Lists | NumPy Arrays | Pandas                          |\n",
    "| --------------------- | ------------ | ------------ | ------------------------------- |\n",
    "| Labeled Data          | ❌            | ❌            | ✅                               |\n",
    "| Heterogeneous Data    | ✅            | ❌            | ✅                               |\n",
    "| Missing Data Handling | ❌            | ❌            | ✅                               |\n",
    "| SQL-like Operations   | ❌            | ❌            | ✅                               |\n",
    "| File I/O Support      | ❌            | ✅ (limited)  | ✅ (CSV, Excel, JSON, SQL, etc.) |\n"
   ]
  },
  {
   "cell_type": "markdown",
   "id": "74521775-4a0a-4fe8-a252-5ea3b4ba16f4",
   "metadata": {},
   "source": [
    "### 🧩 Pandas vs NumPy"
   ]
  },
  {
   "cell_type": "markdown",
   "id": "7d16dad0-4191-48e5-84bb-9ec2f00abc71",
   "metadata": {},
   "source": [
    "| **Aspect**    | **NumPy**                               | **Pandas**                                     |\n",
    "| ------------- | --------------------------------------- | ---------------------------------------------- |\n",
    "| Structure     | Homogeneous (same data type)            | Heterogeneous (different types)                |\n",
    "| Main Object   | ndarray                                 | Series, DataFrame                              |\n",
    "| Label Support | Only numeric indices                    | Custom row/column labels                       |\n",
    "| Missing Data  | Limited handling (NaN for float only)   | Full support with `NaN`, `isna()`, `fillna()`  |\n",
    "| Functionality | Mathematical operations                 | Data analysis, manipulation, grouping, joining |\n",
    "| Performance   | Slightly faster for numeric computation | Slightly slower (adds abstraction)             |\n",
    "| Use Case      | Scientific computing                    | Data analysis / manipulation                   |\n"
   ]
  },
  {
   "cell_type": "markdown",
   "id": "ce3b23de-617b-40b0-a368-8fd407ff0129",
   "metadata": {},
   "source": [
    "###### 👉 Pandas actually uses NumPy under the hood, so you often use both together."
   ]
  },
  {
   "cell_type": "markdown",
   "id": "0ecec59c-a91b-42e3-9b51-f3c8d3115582",
   "metadata": {},
   "source": [
    "## Install pandas "
   ]
  },
  {
   "cell_type": "code",
   "execution_count": 5,
   "id": "fe6b2d07-73c2-409d-96fb-da53814853af",
   "metadata": {},
   "outputs": [
    {
     "name": "stdout",
     "output_type": "stream",
     "text": [
      "Requirement already satisfied: pandas in c:\\users\\vineeth reddy\\appdata\\local\\programs\\python\\python314\\lib\\site-packages (2.3.3)\n",
      "Requirement already satisfied: numpy>=1.26.0 in c:\\users\\vineeth reddy\\appdata\\local\\programs\\python\\python314\\lib\\site-packages (from pandas) (2.3.3)\n",
      "Requirement already satisfied: python-dateutil>=2.8.2 in c:\\users\\vineeth reddy\\appdata\\local\\programs\\python\\python314\\lib\\site-packages (from pandas) (2.9.0.post0)\n",
      "Requirement already satisfied: pytz>=2020.1 in c:\\users\\vineeth reddy\\appdata\\local\\programs\\python\\python314\\lib\\site-packages (from pandas) (2025.2)\n",
      "Requirement already satisfied: tzdata>=2022.7 in c:\\users\\vineeth reddy\\appdata\\local\\programs\\python\\python314\\lib\\site-packages (from pandas) (2025.2)\n",
      "Requirement already satisfied: six>=1.5 in c:\\users\\vineeth reddy\\appdata\\local\\programs\\python\\python314\\lib\\site-packages (from python-dateutil>=2.8.2->pandas) (1.17.0)\n"
     ]
    }
   ],
   "source": [
    "!pip install pandas"
   ]
  },
  {
   "cell_type": "markdown",
   "id": "196aee05-f9d9-4aa5-b175-ffe014f9a194",
   "metadata": {},
   "source": [
    "## 🧱 Core Data Structures in Pandas\n",
    "Pandas introduces two primary data structures:\n"
   ]
  },
  {
   "cell_type": "markdown",
   "id": "4fc825f3-aa00-4428-b704-7e8a03f36f81",
   "metadata": {},
   "source": [
    "#### 1️⃣ Series — 1D Labeled Array\n",
    "\n",
    "A one-dimensional array that holds data + labels (index)."
   ]
  },
  {
   "cell_type": "code",
   "execution_count": 10,
   "id": "f29d9c4a-a124-400f-a31c-bbf527f921ee",
   "metadata": {},
   "outputs": [
    {
     "name": "stdout",
     "output_type": "stream",
     "text": [
      "0    1\n",
      "1    2\n",
      "2    3\n",
      "3    4\n",
      "4    5\n",
      "5    6\n",
      "dtype: int64\n",
      "a    1\n",
      "b    2\n",
      "c    3\n",
      "dtype: int64\n"
     ]
    }
   ],
   "source": [
    "import pandas as pd\n",
    "\n",
    "s = pd.Series([1,2,3,4,5,6])\n",
    "print(s)\n",
    "\n",
    "s_index = pd.Series([1,2,3],index=['a','b','c'])\n",
    "print(s_index)"
   ]
  },
  {
   "cell_type": "markdown",
   "id": "357bf32a-0c50-4776-a607-1a0c97936058",
   "metadata": {},
   "source": [
    "###### 🔹 Key Points:\n",
    "\n",
    "Each element has an index label.\n",
    "\n",
    "Works like a column in Excel or a single NumPy array with labels.\n",
    "\n",
    "Vectorized operations supported:"
   ]
  },
  {
   "cell_type": "code",
   "execution_count": 13,
   "id": "fe4c43d6-8132-4c12-ba40-241b1456dff9",
   "metadata": {},
   "outputs": [
    {
     "name": "stdout",
     "output_type": "stream",
     "text": [
      "0     2\n",
      "1     4\n",
      "2     6\n",
      "3     8\n",
      "4    10\n",
      "5    12\n",
      "dtype: int64\n",
      "0     6\n",
      "1     7\n",
      "2     8\n",
      "3     9\n",
      "4    10\n",
      "5    11\n",
      "dtype: int64\n"
     ]
    }
   ],
   "source": [
    "print(s * 2)   # multiplies each element\n",
    "print(s + 5)   # adds 5 to each element\n"
   ]
  },
  {
   "cell_type": "markdown",
   "id": "e08c10ef-3b2d-4f30-bb14-888cc7ee43ec",
   "metadata": {},
   "source": [
    "### 2️⃣ DataFrame — 2D Labeled Table\n",
    "\n",
    "A tabular data structure with rows and columns, like an Excel sheet or SQL table."
   ]
  },
  {
   "cell_type": "code",
   "execution_count": 16,
   "id": "9fb00c28-55a8-4b78-8182-c5d2e7546b14",
   "metadata": {},
   "outputs": [
    {
     "ename": "ValueError",
     "evalue": "All arrays must be of the same length",
     "output_type": "error",
     "traceback": [
      "\u001b[31m---------------------------------------------------------------------------\u001b[39m",
      "\u001b[31mValueError\u001b[39m                                Traceback (most recent call last)",
      "\u001b[36mCell\u001b[39m\u001b[36m \u001b[39m\u001b[32mIn[16]\u001b[39m\u001b[32m, line 8\u001b[39m\n\u001b[32m      1\u001b[39m \u001b[38;5;28;01mimport\u001b[39;00m\u001b[38;5;250m \u001b[39m\u001b[34;01mpandas\u001b[39;00m\u001b[38;5;250m \u001b[39m\u001b[38;5;28;01mas\u001b[39;00m\u001b[38;5;250m \u001b[39m\u001b[34;01mpd\u001b[39;00m \n\u001b[32m      3\u001b[39m data = {\n\u001b[32m      4\u001b[39m     \u001b[33m'\u001b[39m\u001b[33mname\u001b[39m\u001b[33m'\u001b[39m:[\u001b[33m\"\u001b[39m\u001b[33mvineeth\u001b[39m\u001b[33m\"\u001b[39m,\u001b[33m\"\u001b[39m\u001b[33mjagan\u001b[39m\u001b[33m\"\u001b[39m,\u001b[33m\"\u001b[39m\u001b[33mjagadeesh\u001b[39m\u001b[33m\"\u001b[39m],\n\u001b[32m      5\u001b[39m     \u001b[33m'\u001b[39m\u001b[33mlanguges\u001b[39m\u001b[33m'\u001b[39m:[\u001b[33m'\u001b[39m\u001b[33mpython\u001b[39m\u001b[33m'\u001b[39m]\n\u001b[32m      6\u001b[39m }\n\u001b[32m----> \u001b[39m\u001b[32m8\u001b[39m df = \u001b[43mpd\u001b[49m\u001b[43m.\u001b[49m\u001b[43mDataFrame\u001b[49m\u001b[43m(\u001b[49m\u001b[43mdata\u001b[49m\u001b[43m)\u001b[49m\n",
      "\u001b[36mFile \u001b[39m\u001b[32m~\\AppData\\Local\\Programs\\Python\\Python314\\Lib\\site-packages\\pandas\\core\\frame.py:782\u001b[39m, in \u001b[36mDataFrame.__init__\u001b[39m\u001b[34m(self, data, index, columns, dtype, copy)\u001b[39m\n\u001b[32m    776\u001b[39m     mgr = \u001b[38;5;28mself\u001b[39m._init_mgr(\n\u001b[32m    777\u001b[39m         data, axes={\u001b[33m\"\u001b[39m\u001b[33mindex\u001b[39m\u001b[33m\"\u001b[39m: index, \u001b[33m\"\u001b[39m\u001b[33mcolumns\u001b[39m\u001b[33m\"\u001b[39m: columns}, dtype=dtype, copy=copy\n\u001b[32m    778\u001b[39m     )\n\u001b[32m    780\u001b[39m \u001b[38;5;28;01melif\u001b[39;00m \u001b[38;5;28misinstance\u001b[39m(data, \u001b[38;5;28mdict\u001b[39m):\n\u001b[32m    781\u001b[39m     \u001b[38;5;66;03m# GH#38939 de facto copy defaults to False only in non-dict cases\u001b[39;00m\n\u001b[32m--> \u001b[39m\u001b[32m782\u001b[39m     mgr = \u001b[43mdict_to_mgr\u001b[49m\u001b[43m(\u001b[49m\u001b[43mdata\u001b[49m\u001b[43m,\u001b[49m\u001b[43m \u001b[49m\u001b[43mindex\u001b[49m\u001b[43m,\u001b[49m\u001b[43m \u001b[49m\u001b[43mcolumns\u001b[49m\u001b[43m,\u001b[49m\u001b[43m \u001b[49m\u001b[43mdtype\u001b[49m\u001b[43m=\u001b[49m\u001b[43mdtype\u001b[49m\u001b[43m,\u001b[49m\u001b[43m \u001b[49m\u001b[43mcopy\u001b[49m\u001b[43m=\u001b[49m\u001b[43mcopy\u001b[49m\u001b[43m,\u001b[49m\u001b[43m \u001b[49m\u001b[43mtyp\u001b[49m\u001b[43m=\u001b[49m\u001b[43mmanager\u001b[49m\u001b[43m)\u001b[49m\n\u001b[32m    783\u001b[39m \u001b[38;5;28;01melif\u001b[39;00m \u001b[38;5;28misinstance\u001b[39m(data, ma.MaskedArray):\n\u001b[32m    784\u001b[39m     \u001b[38;5;28;01mfrom\u001b[39;00m\u001b[38;5;250m \u001b[39m\u001b[34;01mnumpy\u001b[39;00m\u001b[34;01m.\u001b[39;00m\u001b[34;01mma\u001b[39;00m\u001b[38;5;250m \u001b[39m\u001b[38;5;28;01mimport\u001b[39;00m mrecords\n",
      "\u001b[36mFile \u001b[39m\u001b[32m~\\AppData\\Local\\Programs\\Python\\Python314\\Lib\\site-packages\\pandas\\core\\internals\\construction.py:503\u001b[39m, in \u001b[36mdict_to_mgr\u001b[39m\u001b[34m(data, index, columns, dtype, typ, copy)\u001b[39m\n\u001b[32m    499\u001b[39m     \u001b[38;5;28;01melse\u001b[39;00m:\n\u001b[32m    500\u001b[39m         \u001b[38;5;66;03m# dtype check to exclude e.g. range objects, scalars\u001b[39;00m\n\u001b[32m    501\u001b[39m         arrays = [x.copy() \u001b[38;5;28;01mif\u001b[39;00m \u001b[38;5;28mhasattr\u001b[39m(x, \u001b[33m\"\u001b[39m\u001b[33mdtype\u001b[39m\u001b[33m\"\u001b[39m) \u001b[38;5;28;01melse\u001b[39;00m x \u001b[38;5;28;01mfor\u001b[39;00m x \u001b[38;5;129;01min\u001b[39;00m arrays]\n\u001b[32m--> \u001b[39m\u001b[32m503\u001b[39m \u001b[38;5;28;01mreturn\u001b[39;00m \u001b[43marrays_to_mgr\u001b[49m\u001b[43m(\u001b[49m\u001b[43marrays\u001b[49m\u001b[43m,\u001b[49m\u001b[43m \u001b[49m\u001b[43mcolumns\u001b[49m\u001b[43m,\u001b[49m\u001b[43m \u001b[49m\u001b[43mindex\u001b[49m\u001b[43m,\u001b[49m\u001b[43m \u001b[49m\u001b[43mdtype\u001b[49m\u001b[43m=\u001b[49m\u001b[43mdtype\u001b[49m\u001b[43m,\u001b[49m\u001b[43m \u001b[49m\u001b[43mtyp\u001b[49m\u001b[43m=\u001b[49m\u001b[43mtyp\u001b[49m\u001b[43m,\u001b[49m\u001b[43m \u001b[49m\u001b[43mconsolidate\u001b[49m\u001b[43m=\u001b[49m\u001b[43mcopy\u001b[49m\u001b[43m)\u001b[49m\n",
      "\u001b[36mFile \u001b[39m\u001b[32m~\\AppData\\Local\\Programs\\Python\\Python314\\Lib\\site-packages\\pandas\\core\\internals\\construction.py:114\u001b[39m, in \u001b[36marrays_to_mgr\u001b[39m\u001b[34m(arrays, columns, index, dtype, verify_integrity, typ, consolidate)\u001b[39m\n\u001b[32m    111\u001b[39m \u001b[38;5;28;01mif\u001b[39;00m verify_integrity:\n\u001b[32m    112\u001b[39m     \u001b[38;5;66;03m# figure out the index, if necessary\u001b[39;00m\n\u001b[32m    113\u001b[39m     \u001b[38;5;28;01mif\u001b[39;00m index \u001b[38;5;129;01mis\u001b[39;00m \u001b[38;5;28;01mNone\u001b[39;00m:\n\u001b[32m--> \u001b[39m\u001b[32m114\u001b[39m         index = \u001b[43m_extract_index\u001b[49m\u001b[43m(\u001b[49m\u001b[43marrays\u001b[49m\u001b[43m)\u001b[49m\n\u001b[32m    115\u001b[39m     \u001b[38;5;28;01melse\u001b[39;00m:\n\u001b[32m    116\u001b[39m         index = ensure_index(index)\n",
      "\u001b[36mFile \u001b[39m\u001b[32m~\\AppData\\Local\\Programs\\Python\\Python314\\Lib\\site-packages\\pandas\\core\\internals\\construction.py:677\u001b[39m, in \u001b[36m_extract_index\u001b[39m\u001b[34m(data)\u001b[39m\n\u001b[32m    675\u001b[39m lengths = \u001b[38;5;28mlist\u001b[39m(\u001b[38;5;28mset\u001b[39m(raw_lengths))\n\u001b[32m    676\u001b[39m \u001b[38;5;28;01mif\u001b[39;00m \u001b[38;5;28mlen\u001b[39m(lengths) > \u001b[32m1\u001b[39m:\n\u001b[32m--> \u001b[39m\u001b[32m677\u001b[39m     \u001b[38;5;28;01mraise\u001b[39;00m \u001b[38;5;167;01mValueError\u001b[39;00m(\u001b[33m\"\u001b[39m\u001b[33mAll arrays must be of the same length\u001b[39m\u001b[33m\"\u001b[39m)\n\u001b[32m    679\u001b[39m \u001b[38;5;28;01mif\u001b[39;00m have_dicts:\n\u001b[32m    680\u001b[39m     \u001b[38;5;28;01mraise\u001b[39;00m \u001b[38;5;167;01mValueError\u001b[39;00m(\n\u001b[32m    681\u001b[39m         \u001b[33m\"\u001b[39m\u001b[33mMixing dicts with non-Series may lead to ambiguous ordering.\u001b[39m\u001b[33m\"\u001b[39m\n\u001b[32m    682\u001b[39m     )\n",
      "\u001b[31mValueError\u001b[39m: All arrays must be of the same length"
     ]
    }
   ],
   "source": [
    "import pandas as pd \n",
    "\n",
    "data = {\n",
    "    'name':[\"vineeth\",\"jagan\",\"jagadeesh\"],\n",
    "    'languges':['python','c','java']\n",
    "}\n",
    "\n",
    "df = pd.DataFrame(data)\n"
   ]
  },
  {
   "cell_type": "code",
   "execution_count": null,
   "id": "4204ab35-8ab6-4f7d-beae-31022c834d1f",
   "metadata": {},
   "outputs": [],
   "source": []
  }
 ],
 "metadata": {
  "kernelspec": {
   "display_name": "Python 3 (ipykernel)",
   "language": "python",
   "name": "python3"
  },
  "language_info": {
   "codemirror_mode": {
    "name": "ipython",
    "version": 3
   },
   "file_extension": ".py",
   "mimetype": "text/x-python",
   "name": "python",
   "nbconvert_exporter": "python",
   "pygments_lexer": "ipython3",
   "version": "3.14.0"
  }
 },
 "nbformat": 4,
 "nbformat_minor": 5
}
