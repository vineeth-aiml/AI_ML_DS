{
 "cells": [
  {
   "cell_type": "markdown",
   "id": "1424343c-f760-4f72-8b3f-eec6bff68e8f",
   "metadata": {},
   "source": [
    "## 🐼 PANDAS COMPLETE COURSE (2025 EDITION)\n"
   ]
  },
  {
   "cell_type": "markdown",
   "id": "17c1a0fb-f435-426e-aacc-dc936991454b",
   "metadata": {},
   "source": [
    "## 1️⃣ Introduction to Pandas\n",
    "🐍 What is Pandas?\n",
    "\n",
    "Pandas (short for Panel Data) is a Python library built on top of NumPy, designed for:\n",
    "\n",
    "Data manipulation (cleaning, transforming, reshaping)\n",
    "\n",
    "Data analysis (aggregating, grouping, summarizing)\n",
    "\n",
    "Data visualization (basic charts and exploration)\n",
    "\n",
    "Integration with many formats — CSV, Excel, SQL, JSON, etc.\n",
    "\n",
    "It provides fast, flexible, and expressive data structures to work with labeled and relational data (like a spreadsheet or SQL table).\n",
    "\n",
    "👉 In short:\n",
    "\n",
    "Pandas = NumPy + SQL + Excel (combined, but in Python syntax)"
   ]
  },
  {
   "cell_type": "markdown",
   "id": "2263a845-00a6-42bc-b06a-dcd539a54821",
   "metadata": {},
   "source": [
    "### 🧠 Why Use Pandas?\n",
    "🔹 Before Pandas:\n",
    "\n",
    "Working with raw Python lists, dictionaries, or NumPy arrays for data analysis was hard because:\n",
    "\n",
    "You needed loops for simple operations.\n",
    "\n",
    "Data often came from CSVs or databases — not easy to clean manually.\n",
    "\n",
    "NumPy arrays don’t store labels (column names / indices).\n",
    "\n",
    "🔹 With Pandas:\n",
    "\n",
    "Data is organized like a table with rows and columns.\n",
    "\n",
    "You can easily filter, aggregate, merge, clean, and transform data.\n",
    "\n",
    "Pandas is optimized in C for performance."
   ]
  },
  {
   "cell_type": "markdown",
   "id": "18bd47b7-9d9f-479c-97da-11a05825b2b2",
   "metadata": {},
   "source": [
    "| Feature               | Python Lists | NumPy Arrays | Pandas                          |\n",
    "| --------------------- | ------------ | ------------ | ------------------------------- |\n",
    "| Labeled Data          | ❌            | ❌            | ✅                               |\n",
    "| Heterogeneous Data    | ✅            | ❌            | ✅                               |\n",
    "| Missing Data Handling | ❌            | ❌            | ✅                               |\n",
    "| SQL-like Operations   | ❌            | ❌            | ✅                               |\n",
    "| File I/O Support      | ❌            | ✅ (limited)  | ✅ (CSV, Excel, JSON, SQL, etc.) |\n"
   ]
  },
  {
   "cell_type": "markdown",
   "id": "74521775-4a0a-4fe8-a252-5ea3b4ba16f4",
   "metadata": {},
   "source": [
    "### 🧩 Pandas vs NumPy"
   ]
  },
  {
   "cell_type": "markdown",
   "id": "7d16dad0-4191-48e5-84bb-9ec2f00abc71",
   "metadata": {},
   "source": [
    "| **Aspect**    | **NumPy**                               | **Pandas**                                     |\n",
    "| ------------- | --------------------------------------- | ---------------------------------------------- |\n",
    "| Structure     | Homogeneous (same data type)            | Heterogeneous (different types)                |\n",
    "| Main Object   | ndarray                                 | Series, DataFrame                              |\n",
    "| Label Support | Only numeric indices                    | Custom row/column labels                       |\n",
    "| Missing Data  | Limited handling (NaN for float only)   | Full support with `NaN`, `isna()`, `fillna()`  |\n",
    "| Functionality | Mathematical operations                 | Data analysis, manipulation, grouping, joining |\n",
    "| Performance   | Slightly faster for numeric computation | Slightly slower (adds abstraction)             |\n",
    "| Use Case      | Scientific computing                    | Data analysis / manipulation                   |\n"
   ]
  },
  {
   "cell_type": "markdown",
   "id": "ce3b23de-617b-40b0-a368-8fd407ff0129",
   "metadata": {},
   "source": [
    "###### 👉 Pandas actually uses NumPy under the hood, so you often use both together."
   ]
  },
  {
   "cell_type": "markdown",
   "id": "0ecec59c-a91b-42e3-9b51-f3c8d3115582",
   "metadata": {},
   "source": [
    "## Install pandas "
   ]
  },
  {
   "cell_type": "code",
   "execution_count": 1,
   "id": "fe6b2d07-73c2-409d-96fb-da53814853af",
   "metadata": {},
   "outputs": [
    {
     "name": "stdout",
     "output_type": "stream",
     "text": [
      "Requirement already satisfied: pandas in c:\\users\\vineeth reddy\\appdata\\local\\programs\\python\\python314\\lib\\site-packages (2.3.3)\n",
      "Requirement already satisfied: numpy>=1.26.0 in c:\\users\\vineeth reddy\\appdata\\local\\programs\\python\\python314\\lib\\site-packages (from pandas) (2.3.3)\n",
      "Requirement already satisfied: python-dateutil>=2.8.2 in c:\\users\\vineeth reddy\\appdata\\local\\programs\\python\\python314\\lib\\site-packages (from pandas) (2.9.0.post0)\n",
      "Requirement already satisfied: pytz>=2020.1 in c:\\users\\vineeth reddy\\appdata\\local\\programs\\python\\python314\\lib\\site-packages (from pandas) (2025.2)\n",
      "Requirement already satisfied: tzdata>=2022.7 in c:\\users\\vineeth reddy\\appdata\\local\\programs\\python\\python314\\lib\\site-packages (from pandas) (2025.2)\n",
      "Requirement already satisfied: six>=1.5 in c:\\users\\vineeth reddy\\appdata\\local\\programs\\python\\python314\\lib\\site-packages (from python-dateutil>=2.8.2->pandas) (1.17.0)\n"
     ]
    }
   ],
   "source": [
    "!pip install pandas"
   ]
  },
  {
   "cell_type": "markdown",
   "id": "196aee05-f9d9-4aa5-b175-ffe014f9a194",
   "metadata": {},
   "source": [
    "## 🧱 Core Data Structures in Pandas\n",
    "Pandas introduces two primary data structures:\n"
   ]
  },
  {
   "cell_type": "markdown",
   "id": "4fc825f3-aa00-4428-b704-7e8a03f36f81",
   "metadata": {},
   "source": [
    "#### 1️⃣ Series — 1D Labeled Array\n",
    "\n",
    "A one-dimensional array that holds data + labels (index)."
   ]
  },
  {
   "cell_type": "code",
   "execution_count": 2,
   "id": "f29d9c4a-a124-400f-a31c-bbf527f921ee",
   "metadata": {},
   "outputs": [
    {
     "name": "stdout",
     "output_type": "stream",
     "text": [
      "0    1\n",
      "1    2\n",
      "2    3\n",
      "3    4\n",
      "4    5\n",
      "5    6\n",
      "dtype: int64\n",
      "a    1\n",
      "b    2\n",
      "c    3\n",
      "dtype: int64\n"
     ]
    }
   ],
   "source": [
    "import pandas as pd\n",
    "\n",
    "s = pd.Series([1,2,3,4,5,6])\n",
    "print(s)\n",
    "\n",
    "s_index = pd.Series([1,2,3],index=['a','b','c'])\n",
    "print(s_index)"
   ]
  },
  {
   "cell_type": "markdown",
   "id": "357bf32a-0c50-4776-a607-1a0c97936058",
   "metadata": {},
   "source": [
    "###### 🔹 Key Points:\n",
    "\n",
    "Each element has an index label.\n",
    "\n",
    "Works like a column in Excel or a single NumPy array with labels.\n",
    "\n",
    "Vectorized operations supported:"
   ]
  },
  {
   "cell_type": "code",
   "execution_count": 3,
   "id": "fe4c43d6-8132-4c12-ba40-241b1456dff9",
   "metadata": {},
   "outputs": [
    {
     "name": "stdout",
     "output_type": "stream",
     "text": [
      "0     2\n",
      "1     4\n",
      "2     6\n",
      "3     8\n",
      "4    10\n",
      "5    12\n",
      "dtype: int64\n",
      "0     6\n",
      "1     7\n",
      "2     8\n",
      "3     9\n",
      "4    10\n",
      "5    11\n",
      "dtype: int64\n"
     ]
    }
   ],
   "source": [
    "print(s * 2)   # multiplies each element\n",
    "print(s + 5)   # adds 5 to each element\n"
   ]
  },
  {
   "cell_type": "markdown",
   "id": "e08c10ef-3b2d-4f30-bb14-888cc7ee43ec",
   "metadata": {},
   "source": [
    "### 2️⃣ DataFrame — 2D Labeled Table\n",
    "\n",
    "A tabular data structure with rows and columns, like an Excel sheet or SQL table."
   ]
  },
  {
   "cell_type": "code",
   "execution_count": 4,
   "id": "9fb00c28-55a8-4b78-8182-c5d2e7546b14",
   "metadata": {},
   "outputs": [
    {
     "name": "stdout",
     "output_type": "stream",
     "text": [
      "        name languges\n",
      "0    vineeth   python\n",
      "1      jagan        c\n",
      "2  jagadeesh     java\n"
     ]
    }
   ],
   "source": [
    "import pandas as pd \n",
    "\n",
    "data = {\n",
    "    'name':[\"vineeth\",\"jagan\",\"jagadeesh\"],\n",
    "    'languges':['python','c','java']\n",
    "}\n",
    "\n",
    "df = pd.DataFrame(data)\n",
    "print(df)"
   ]
  },
  {
   "cell_type": "markdown",
   "id": "02b80db7-8dd1-4954-a6ab-27c925a4c5db",
   "metadata": {},
   "source": [
    "##### 🔹 Key Features:\n",
    "\n",
    "Columns can be different data types (int, float, string, bool, etc.)\n",
    "\n",
    "Supports indexing, slicing, filtering, joining, grouping, plotting etc..\n",
    "\n",
    "Built-in methods for reading/writing data from files (CSV, Excel, SQL, JSON...)"
   ]
  },
  {
   "cell_type": "markdown",
   "id": "49e0d12d-621d-4d79-89b6-1a80d8536d1f",
   "metadata": {},
   "source": [
    "#### 💡 Tips & Tricks"
   ]
  },
  {
   "cell_type": "markdown",
   "id": "b663dc41-7c95-4902-98d8-65d2cba6811b",
   "metadata": {},
   "source": [
    "#### Quick Overview    "
   ]
  },
  {
   "cell_type": "code",
   "execution_count": 5,
   "id": "88f12b22-4e6e-4b50-90eb-6ad7d0b980be",
   "metadata": {},
   "outputs": [
    {
     "name": "stdout",
     "output_type": "stream",
     "text": [
      "<class 'pandas.core.frame.DataFrame'>\n",
      "RangeIndex: 3 entries, 0 to 2\n",
      "Data columns (total 2 columns):\n",
      " #   Column    Non-Null Count  Dtype \n",
      "---  ------    --------------  ----- \n",
      " 0   name      3 non-null      object\n",
      " 1   languges  3 non-null      object\n",
      "dtypes: object(2)\n",
      "memory usage: 180.0+ bytes\n"
     ]
    }
   ],
   "source": [
    "df.info()  # Summary of columns, dtypes, memory usage"
   ]
  },
  {
   "cell_type": "code",
   "execution_count": 6,
   "id": "ecca3244-6e45-4b16-bd0e-dddffce4f3e3",
   "metadata": {},
   "outputs": [
    {
     "data": {
      "text/html": [
       "<div>\n",
       "<style scoped>\n",
       "    .dataframe tbody tr th:only-of-type {\n",
       "        vertical-align: middle;\n",
       "    }\n",
       "\n",
       "    .dataframe tbody tr th {\n",
       "        vertical-align: top;\n",
       "    }\n",
       "\n",
       "    .dataframe thead th {\n",
       "        text-align: right;\n",
       "    }\n",
       "</style>\n",
       "<table border=\"1\" class=\"dataframe\">\n",
       "  <thead>\n",
       "    <tr style=\"text-align: right;\">\n",
       "      <th></th>\n",
       "      <th>name</th>\n",
       "      <th>languges</th>\n",
       "    </tr>\n",
       "  </thead>\n",
       "  <tbody>\n",
       "    <tr>\n",
       "      <th>0</th>\n",
       "      <td>vineeth</td>\n",
       "      <td>python</td>\n",
       "    </tr>\n",
       "  </tbody>\n",
       "</table>\n",
       "</div>"
      ],
      "text/plain": [
       "      name languges\n",
       "0  vineeth   python"
      ]
     },
     "execution_count": 6,
     "metadata": {},
     "output_type": "execute_result"
    }
   ],
   "source": [
    "df.head(1) ## first row"
   ]
  },
  {
   "cell_type": "code",
   "execution_count": 7,
   "id": "006be9e1-07da-4c97-89d7-5ffbdeb79732",
   "metadata": {},
   "outputs": [
    {
     "data": {
      "text/html": [
       "<div>\n",
       "<style scoped>\n",
       "    .dataframe tbody tr th:only-of-type {\n",
       "        vertical-align: middle;\n",
       "    }\n",
       "\n",
       "    .dataframe tbody tr th {\n",
       "        vertical-align: top;\n",
       "    }\n",
       "\n",
       "    .dataframe thead th {\n",
       "        text-align: right;\n",
       "    }\n",
       "</style>\n",
       "<table border=\"1\" class=\"dataframe\">\n",
       "  <thead>\n",
       "    <tr style=\"text-align: right;\">\n",
       "      <th></th>\n",
       "      <th>name</th>\n",
       "      <th>languges</th>\n",
       "    </tr>\n",
       "  </thead>\n",
       "  <tbody>\n",
       "    <tr>\n",
       "      <th>2</th>\n",
       "      <td>jagadeesh</td>\n",
       "      <td>java</td>\n",
       "    </tr>\n",
       "  </tbody>\n",
       "</table>\n",
       "</div>"
      ],
      "text/plain": [
       "        name languges\n",
       "2  jagadeesh     java"
      ]
     },
     "execution_count": 7,
     "metadata": {},
     "output_type": "execute_result"
    }
   ],
   "source": [
    "df.tail(1) ## last row"
   ]
  },
  {
   "cell_type": "code",
   "execution_count": 8,
   "id": "751660dd-0c73-406f-9ef5-3adf4888b5e6",
   "metadata": {},
   "outputs": [
    {
     "data": {
      "text/html": [
       "<div>\n",
       "<style scoped>\n",
       "    .dataframe tbody tr th:only-of-type {\n",
       "        vertical-align: middle;\n",
       "    }\n",
       "\n",
       "    .dataframe tbody tr th {\n",
       "        vertical-align: top;\n",
       "    }\n",
       "\n",
       "    .dataframe thead th {\n",
       "        text-align: right;\n",
       "    }\n",
       "</style>\n",
       "<table border=\"1\" class=\"dataframe\">\n",
       "  <thead>\n",
       "    <tr style=\"text-align: right;\">\n",
       "      <th></th>\n",
       "      <th>name</th>\n",
       "      <th>languges</th>\n",
       "    </tr>\n",
       "  </thead>\n",
       "  <tbody>\n",
       "    <tr>\n",
       "      <th>count</th>\n",
       "      <td>3</td>\n",
       "      <td>3</td>\n",
       "    </tr>\n",
       "    <tr>\n",
       "      <th>unique</th>\n",
       "      <td>3</td>\n",
       "      <td>3</td>\n",
       "    </tr>\n",
       "    <tr>\n",
       "      <th>top</th>\n",
       "      <td>vineeth</td>\n",
       "      <td>python</td>\n",
       "    </tr>\n",
       "    <tr>\n",
       "      <th>freq</th>\n",
       "      <td>1</td>\n",
       "      <td>1</td>\n",
       "    </tr>\n",
       "  </tbody>\n",
       "</table>\n",
       "</div>"
      ],
      "text/plain": [
       "           name languges\n",
       "count         3        3\n",
       "unique        3        3\n",
       "top     vineeth   python\n",
       "freq          1        1"
      ]
     },
     "execution_count": 8,
     "metadata": {},
     "output_type": "execute_result"
    }
   ],
   "source": [
    "df.describe()  # Statistical summary "
   ]
  },
  {
   "cell_type": "markdown",
   "id": "da01b4d7-74c9-445a-b700-e8d30068c106",
   "metadata": {},
   "source": [
    "#### Inspect Data"
   ]
  },
  {
   "cell_type": "code",
   "execution_count": 9,
   "id": "abc1baeb-a069-44e4-a957-1311ecc2820e",
   "metadata": {},
   "outputs": [
    {
     "data": {
      "text/plain": [
       "(3, 2)"
      ]
     },
     "execution_count": 9,
     "metadata": {},
     "output_type": "execute_result"
    }
   ],
   "source": [
    "df.shape  # (rows ,columns)"
   ]
  },
  {
   "cell_type": "code",
   "execution_count": 10,
   "id": "95518465-9bda-4846-aa6f-aabab742e52d",
   "metadata": {},
   "outputs": [
    {
     "data": {
      "text/plain": [
       "Index(['name', 'languges'], dtype='object')"
      ]
     },
     "execution_count": 10,
     "metadata": {},
     "output_type": "execute_result"
    }
   ],
   "source": [
    "df.columns  # list of columns"
   ]
  },
  {
   "cell_type": "code",
   "execution_count": 11,
   "id": "df4f9ef1-041c-4a6c-a096-3734de0af067",
   "metadata": {},
   "outputs": [
    {
     "data": {
      "text/plain": [
       "name        object\n",
       "languges    object\n",
       "dtype: object"
      ]
     },
     "execution_count": 11,
     "metadata": {},
     "output_type": "execute_result"
    }
   ],
   "source": [
    "df.dtypes # data types of columns"
   ]
  },
  {
   "cell_type": "code",
   "execution_count": 12,
   "id": "19964969-f528-4cda-a575-5da39e8c7513",
   "metadata": {},
   "outputs": [
    {
     "data": {
      "text/plain": [
       "RangeIndex(start=0, stop=3, step=1)"
      ]
     },
     "execution_count": 12,
     "metadata": {},
     "output_type": "execute_result"
    }
   ],
   "source": [
    "df.index # row indices"
   ]
  },
  {
   "cell_type": "markdown",
   "id": "2749c711-d201-415c-97c1-40d9d2c774e6",
   "metadata": {},
   "source": [
    "# 🧱 PART  — CORE DATA STRUCTURES \n",
    "# Series\n",
    "\n",
    "A Series is a one-dimensional labeled array capable of holding any data type — integers, floats, strings, objects, etc.\n",
    "\n",
    "Think of it like an Excel column or a NumPy array with labels.\n"
   ]
  },
  {
   "cell_type": "markdown",
   "id": "124b6519-5cf5-425d-9752-41bab589d595",
   "metadata": {},
   "source": [
    "### 🔹 1. Creating a Series"
   ]
  },
  {
   "cell_type": "code",
   "execution_count": 13,
   "id": "9a929d2a-0455-4582-812f-243e0c44d114",
   "metadata": {},
   "outputs": [
    {
     "name": "stdout",
     "output_type": "stream",
     "text": [
      "0    10\n",
      "1    20\n",
      "2    30\n",
      "3    40\n",
      "dtype: int64\n",
      "\n",
      " a    10\n",
      "b    20\n",
      "c    30\n",
      "d    40\n",
      "dtype: int64\n",
      "\n",
      " a    10\n",
      "b    20\n",
      "c    30\n",
      "dtype: int64\n",
      "\n",
      " x     5\n",
      "y    10\n",
      "z    15\n",
      "dtype: int64\n"
     ]
    }
   ],
   "source": [
    "import pandas as pd\n",
    "import numpy as np\n",
    "\n",
    "# From list\n",
    "s1 = pd.Series([10, 20, 30, 40])\n",
    "\n",
    "# From list with custom index\n",
    "s2 = pd.Series([10, 20, 30, 40], index=['a', 'b', 'c', 'd'])\n",
    "\n",
    "# From dictionary\n",
    "s3 = pd.Series({'a': 10, 'b': 20, 'c': 30})\n",
    "\n",
    "# From NumPy array\n",
    "arr = np.array([5, 10, 15])\n",
    "s4 = pd.Series(arr, index=['x', 'y', 'z'])\n",
    "\n",
    "print(s1)\n",
    "print(\"\\n\", s2)\n",
    "print(\"\\n\", s3)\n",
    "print(\"\\n\", s4)\n",
    "\n",
    "# ✅ Notes:\n",
    "# Default index starts from 0.\n",
    "# You can assign custom labels.\n",
    "# If you use a dictionary → keys become index."
   ]
  },
  {
   "cell_type": "markdown",
   "id": "51985192-6671-467a-b450-d2d2f0b3b0df",
   "metadata": {},
   "source": [
    "#### 🔹 2. Accessing Elements (Indexing & Slicing)"
   ]
  },
  {
   "cell_type": "code",
   "execution_count": 14,
   "id": "c2e5a362-dddf-4153-8812-b03f957cb51d",
   "metadata": {},
   "outputs": [
    {
     "name": "stdout",
     "output_type": "stream",
     "text": [
      "2\n",
      "2\n",
      "a    1\n",
      "d    4\n",
      "dtype: int64\n",
      "b    2\n",
      "c    3\n",
      "d    4\n",
      "dtype: int64\n"
     ]
    },
    {
     "name": "stderr",
     "output_type": "stream",
     "text": [
      "C:\\Users\\Vineeth Reddy\\AppData\\Local\\Temp\\ipykernel_3908\\2638739307.py:4: FutureWarning: Series.__getitem__ treating keys as positions is deprecated. In a future version, integer keys will always be treated as labels (consistent with DataFrame behavior). To access a value by position, use `ser.iloc[pos]`\n",
      "  print(s[1])         # Access by position → 2\n"
     ]
    }
   ],
   "source": [
    "s = pd.Series([1, 2, 3, 4, 5], index=['a', 'b', 'c', 'd', 'e'])\n",
    "\n",
    "print(s['b'])       # Access by label → 2\n",
    "print(s[1])         # Access by position → 2\n",
    "print(s[['a', 'd']])# Multiple labels\n",
    "print(s[1:4])       # Slice by position → b,c,d\n"
   ]
  },
  {
   "cell_type": "markdown",
   "id": "324df2cb-2991-4097-bc2f-caf6abf5425d",
   "metadata": {},
   "source": [
    "✅ Tip:\n",
    "\n",
    ".loc[] → by label\n",
    "\n",
    ".iloc[] → by position"
   ]
  },
  {
   "cell_type": "code",
   "execution_count": 15,
   "id": "62e5d5a9-126b-49ce-9912-09e15703d37c",
   "metadata": {},
   "outputs": [
    {
     "name": "stdout",
     "output_type": "stream",
     "text": [
      "a    1\n",
      "b    2\n",
      "c    3\n",
      "dtype: int64\n",
      "b    2\n",
      "c    3\n",
      "d    4\n",
      "dtype: int64\n"
     ]
    }
   ],
   "source": [
    "print(s.loc['a':'c'])   # label-based slice (inclusive)\n",
    "print(s.iloc[1:4])      # position-based slice (exclusive)"
   ]
  },
  {
   "cell_type": "markdown",
   "id": "84e4431c-c859-42c5-ae3b-e9a836426d16",
   "metadata": {},
   "source": [
    "### 🔹 3. Vectorized Operations"
   ]
  },
  {
   "cell_type": "markdown",
   "id": "fcbd8956-23c4-46c2-a242-ad0865bf1883",
   "metadata": {},
   "source": [
    "#### Pandas performs element-wise operations automatically (NumPy-style broadcasting)."
   ]
  },
  {
   "cell_type": "code",
   "execution_count": 16,
   "id": "5e1390d7-6b80-4499-b1d7-a7b670c7a332",
   "metadata": {},
   "outputs": [
    {
     "name": "stdout",
     "output_type": "stream",
     "text": [
      "a    11.0\n",
      "b    12.0\n",
      "c     NaN\n",
      "d    14.0\n",
      "dtype: float64\n",
      "a    2.0\n",
      "b    4.0\n",
      "c    NaN\n",
      "d    8.0\n",
      "dtype: float64\n",
      "a     1.0\n",
      "b     4.0\n",
      "c     NaN\n",
      "d    16.0\n",
      "dtype: float64\n",
      "a    2.0\n",
      "b    4.0\n",
      "c    NaN\n",
      "d    8.0\n",
      "dtype: float64\n"
     ]
    }
   ],
   "source": [
    "s = pd.Series([1, 2, np.nan, 4], index=['a', 'b', 'c', 'd'])\n",
    "\n",
    "print(s + 10)        # Add 10 to all elements\n",
    "print(s * 2)         # Multiply all elements by 2\n",
    "print(s ** 2)        # Square\n",
    "print(s + s)         # Element-wise addition"
   ]
  },
  {
   "cell_type": "markdown",
   "id": "5f5f644f-62d5-4423-a198-912d6fb121dd",
   "metadata": {},
   "source": [
    "✅ Note:\n",
    "Operations ignore missing values (NaN) where possible."
   ]
  },
  {
   "cell_type": "markdown",
   "id": "8a636cfa-b954-452a-964d-4b2b667aa4ae",
   "metadata": {},
   "source": [
    "#### 🔹 4. Handling Null Values"
   ]
  },
  {
   "cell_type": "code",
   "execution_count": 17,
   "id": "468e6c0c-4e28-41c5-ae27-948d6e7c8429",
   "metadata": {},
   "outputs": [
    {
     "name": "stdout",
     "output_type": "stream",
     "text": [
      "0    False\n",
      "1     True\n",
      "2    False\n",
      "3     True\n",
      "4    False\n",
      "dtype: bool\n",
      "0     True\n",
      "1    False\n",
      "2     True\n",
      "3    False\n",
      "4     True\n",
      "dtype: bool\n",
      "0    1.0\n",
      "1    0.0\n",
      "2    3.0\n",
      "3    0.0\n",
      "4    5.0\n",
      "dtype: float64\n",
      "0    1.0\n",
      "2    3.0\n",
      "4    5.0\n",
      "dtype: float64\n",
      "3.0\n"
     ]
    }
   ],
   "source": [
    "s = pd.Series([1, np.nan, 3, np.nan, 5])\n",
    "\n",
    "print(s.isna())      # Detect missing\n",
    "print(s.notna())     # Detect non-missing\n",
    "print(s.fillna(0))   # Replace NaN with 0\n",
    "print(s.dropna())    # Remove NaN entries\n",
    "print(s.mean())      # NaN-aware mean\n",
    "### ✅ Pandas math functions are NaN-aware, meaning they skip missing values automatically."
   ]
  },
  {
   "cell_type": "markdown",
   "id": "8d09abcc-5a6b-48e6-89c0-8995e066cf5c",
   "metadata": {},
   "source": [
    "### 🔹 5. Descriptive Statistics"
   ]
  },
  {
   "cell_type": "code",
   "execution_count": 18,
   "id": "9ddc4de3-f5b0-4b0e-9646-b945e7e40a36",
   "metadata": {},
   "outputs": [
    {
     "name": "stdout",
     "output_type": "stream",
     "text": [
      "30.0\n",
      "30.0\n",
      "15.811388300841896\n",
      "10 50\n",
      "\n",
      "count     5.000000\n",
      "mean     30.000000\n",
      "std      15.811388\n",
      "min      10.000000\n",
      "25%      20.000000\n",
      "50%      30.000000\n",
      "75%      40.000000\n",
      "max      50.000000\n",
      "dtype: float64\n"
     ]
    }
   ],
   "source": [
    "s = pd.Series([10, 20, 30, 40, 50])\n",
    "\n",
    "print(s.mean())      # Average\n",
    "print(s.median())    # Middle value\n",
    "print(s.std())       # Standard deviation\n",
    "print(s.min(), s.max())\n",
    "print()\n",
    "print(s.describe())  # Quick summary\n",
    "# ✅ describe() gives a mini report of count, mean, std, min, quartiles, and max"
   ]
  },
  {
   "cell_type": "markdown",
   "id": "906b20f6-73d3-4a2c-8d69-d52e3d8f9510",
   "metadata": {},
   "source": [
    "### 🔹 6. Useful Attributes"
   ]
  },
  {
   "cell_type": "code",
   "execution_count": 19,
   "id": "1e977228-ac26-44fd-88b0-4973487ac76f",
   "metadata": {},
   "outputs": [
    {
     "name": "stdout",
     "output_type": "stream",
     "text": [
      "[10 20 30 40 50]\n",
      "RangeIndex(start=0, stop=5, step=1)\n",
      "int64\n",
      "(5,)\n",
      "1\n",
      "5\n",
      "None\n"
     ]
    }
   ],
   "source": [
    "print(s.values)     # Underlying NumPy array\n",
    "print(s.index)      # Index labels\n",
    "print(s.dtype)      # Data type\n",
    "print(s.shape)      # Shape (tuple)\n",
    "print(s.ndim)       # Dimension (1)\n",
    "print(s.size)       # Number of elements\n",
    "print(s.name)       # Series name (can assign)\n"
   ]
  },
  {
   "cell_type": "code",
   "execution_count": 20,
   "id": "cffe9573-b2f4-47fe-a345-78a67afbf437",
   "metadata": {},
   "outputs": [
    {
     "name": "stdout",
     "output_type": "stream",
     "text": [
      "0    10\n",
      "1    20\n",
      "2    30\n",
      "3    40\n",
      "4    50\n",
      "Name: Sales, dtype: int64\n"
     ]
    }
   ],
   "source": [
    "s.name = \"Sales\"\n",
    "print(s)"
   ]
  },
  {
   "cell_type": "markdown",
   "id": "1ae883bd-a845-4766-9d91-384ebce2dd9d",
   "metadata": {},
   "source": [
    "## 🔹 7. Applying Functions"
   ]
  },
  {
   "cell_type": "code",
   "execution_count": 21,
   "id": "9d5e889b-bfb8-4f82-9a9c-aa3b74f8bb5d",
   "metadata": {},
   "outputs": [
    {
     "name": "stdout",
     "output_type": "stream",
     "text": [
      "0     1\n",
      "1     4\n",
      "2     9\n",
      "3    16\n",
      "4    25\n",
      "dtype: int64\n",
      "0    10\n",
      "1    20\n",
      "2    30\n",
      "3    40\n",
      "4    50\n",
      "dtype: int64\n"
     ]
    }
   ],
   "source": [
    "s = pd.Series([1, 2, 3, 4, 5])\n",
    "\n",
    "print(s.apply(lambda x: x ** 2))   # Using apply\n",
    "print(s.map(lambda x: x * 10))     # Using map\n",
    "# ✅ Both apply() and map() apply a function element-wise."
   ]
  },
  {
   "cell_type": "markdown",
   "id": "cd21bca4-119e-4361-8a21-d1b38e23ebe6",
   "metadata": {},
   "source": [
    "## 🔹 8. Unique Values & Frequency"
   ]
  },
  {
   "cell_type": "code",
   "execution_count": 22,
   "id": "b2c7c284-cdb9-4692-bd2b-5fbf35f5e9c2",
   "metadata": {},
   "outputs": [
    {
     "name": "stdout",
     "output_type": "stream",
     "text": [
      "['apple' 'banana' 'orange']\n",
      "3\n",
      "apple     3\n",
      "banana    2\n",
      "orange    1\n",
      "Name: count, dtype: int64\n"
     ]
    }
   ],
   "source": [
    "s = pd.Series(['apple', 'banana', 'apple', 'orange', 'banana', 'apple'])\n",
    "\n",
    "print(s.unique())         # Unique values\n",
    "print(s.nunique())        # Number of unique values\n",
    "print(s.value_counts())   # Frequency count\n"
   ]
  },
  {
   "cell_type": "markdown",
   "id": "eba4536e-d451-4b95-85d4-3b3de4c34c2d",
   "metadata": {},
   "source": [
    "## 9. Boolean Filtering"
   ]
  },
  {
   "cell_type": "code",
   "execution_count": 23,
   "id": "e08d5233-dcea-41ef-afd6-406dcf26322d",
   "metadata": {},
   "outputs": [
    {
     "name": "stdout",
     "output_type": "stream",
     "text": [
      "2    30\n",
      "3    40\n",
      "4    50\n",
      "dtype: int64\n",
      "2    30\n",
      "3    40\n",
      "dtype: int64\n"
     ]
    }
   ],
   "source": [
    "s = pd.Series([10, 20, 30, 40, 50])\n",
    "\n",
    "print(s[s > 25])      # Filter values greater than 25\n",
    "print(s[(s > 20) & (s < 50)])  # Combine conditions\n"
   ]
  },
  {
   "cell_type": "code",
   "execution_count": 24,
   "id": "91ea1586-2e75-401a-b6dc-7f6eaa6e73f0",
   "metadata": {},
   "outputs": [
    {
     "name": "stdout",
     "output_type": "stream",
     "text": [
      "2    30\n",
      "3    40\n",
      "4    50\n",
      "dtype: int64\n",
      "2    30\n",
      "3    40\n",
      "dtype: int64\n"
     ]
    }
   ],
   "source": [
    "s = pd.Series([10, 20, 30, 40, 50])\n",
    "\n",
    "print(s[s > 25])      # Filter values greater than 25\n",
    "print(s[(s > 20) & (s < 50)])  # Combine conditions\n",
    "# ✅ Boolean masks let you select data conditionally — like WHERE in SQL."
   ]
  },
  {
   "cell_type": "markdown",
   "id": "8b209d74-130e-406f-a739-4563a0ab63d0",
   "metadata": {},
   "source": [
    "## 🔹 10. Combining Series (Alignment)\n",
    "When combining Series with different indices, Pandas aligns automatically by label."
   ]
  },
  {
   "cell_type": "code",
   "execution_count": 25,
   "id": "c44df8c0-979c-41aa-9f5b-b06fc5bc65b2",
   "metadata": {},
   "outputs": [
    {
     "name": "stdout",
     "output_type": "stream",
     "text": [
      "a     NaN\n",
      "b    25.0\n",
      "c    45.0\n",
      "d     NaN\n",
      "dtype: float64\n"
     ]
    }
   ],
   "source": [
    "s1 = pd.Series([10, 20, 30], index=['a', 'b', 'c'])\n",
    "s2 = pd.Series([5, 15, 25], index=['b', 'c', 'd'])\n",
    "\n",
    "print(s1 + s2)\n",
    "# ✅ Automatic label alignment — unmatched labels → NaN."
   ]
  },
  {
   "cell_type": "markdown",
   "id": "b2674ca4-2d31-4816-ab7f-603fef08dd11",
   "metadata": {},
   "source": [
    "### 🧩 Summary: Series Parameters & Attributes"
   ]
  },
  {
   "cell_type": "markdown",
   "id": "2b7f8901-37da-46c0-a13b-5d1a01228031",
   "metadata": {},
   "source": [
    "| Category            | Attribute / Method                                                 | Description                      |\n",
    "| ------------------- | ------------------------------------------------------------------ | -------------------------------- |\n",
    "| **Creation Params** | `data`, `index`, `dtype`, `name`, `copy`                           | Define input, labels, type, name |\n",
    "| **Attributes**      | `.values`, `.index`, `.dtype`, `.shape`, `.size`, `.ndim`, `.name` | Metadata of the Series           |\n",
    "| **Null Ops**        | `.isna()`, `.notna()`, `.fillna()`, `.dropna()`                    | Handle missing data              |\n",
    "| **Math & Stats**    | `.mean()`, `.sum()`, `.std()`, `.min()`, `.max()`, `.describe()`   | Numeric operations               |\n",
    "| **Vectorization**   | `+`, `-`, `*`, `/`, `**`                                           | Element-wise operations          |\n",
    "| **Apply Functions** | `.apply()`, `.map()`                                               | Custom transformations           |\n",
    "| **Unique / Count**  | `.unique()`, `.nunique()`, `.value_counts()`                       | Frequency analysis               |\n",
    "| **Indexing**        | `.loc[]`, `.iloc[]`, direct `[ ]`                                  | Label vs position access         |\n",
    "| **Head/Tail**       | `.head(n)`, `.tail(n)`                                             | Peek at first/last rows          |\n"
   ]
  },
  {
   "cell_type": "code",
   "execution_count": null,
   "id": "3c5adb2a-e866-4383-a745-816bb843f28e",
   "metadata": {},
   "outputs": [],
   "source": []
  }
 ],
 "metadata": {
  "kernelspec": {
   "display_name": "Python 3 (ipykernel)",
   "language": "python",
   "name": "python3"
  },
  "language_info": {
   "codemirror_mode": {
    "name": "ipython",
    "version": 3
   },
   "file_extension": ".py",
   "mimetype": "text/x-python",
   "name": "python",
   "nbconvert_exporter": "python",
   "pygments_lexer": "ipython3",
   "version": "3.14.0"
  }
 },
 "nbformat": 4,
 "nbformat_minor": 5
}
